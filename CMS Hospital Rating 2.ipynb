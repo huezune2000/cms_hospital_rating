{
 "cells": [
  {
   "cell_type": "markdown",
   "metadata": {},
   "source": [
    "# CMS Hospital Rating"
   ]
  },
  {
   "cell_type": "markdown",
   "metadata": {},
   "source": [
    "#### Fun fact: The probability of picking a 5-star rating hospital in the USA that is from Texas  is 0.35%.\n",
    "###### Fun fact: The probability of picking a 1-star rating hospital in the USA that is from New York  is 1.1%."
   ]
  },
  {
   "cell_type": "markdown",
   "metadata": {},
   "source": [
    "### It is every hospital's dream to have a 5-star rating as it signifies the level of patient-care quality provided. The rating is one of many ways to showcase quality recognition and reputation. The dataset by Centers of Medicare and Medicaid, was downloaded on Kaggle dataset. This data can help us compare the quality  of care among hospitals in the USA. This is an interesting project as the data can be used for predictive modeling using Python. The result of the machine learning algorithms can have implications: "
   ]
  },
  {
   "cell_type": "markdown",
   "metadata": {},
   "source": [
    "### Hospitals - better resource-allocation strategy"
   ]
  },
  {
   "cell_type": "markdown",
   "metadata": {},
   "source": [
    "### Insurance - improve overall policies/practices and network coverage strategy"
   ]
  },
  {
   "cell_type": "markdown",
   "metadata": {},
   "source": [
    "### Patients - better understanding of their healthcare facilities and makes informed decision"
   ]
  },
  {
   "cell_type": "markdown",
   "metadata": {},
   "source": [
    "### The objective of this project is to predict the hospital's rating, thus, the target variable or the y-variable is \"Hospital overall rating\"."
   ]
  },
  {
   "cell_type": "markdown",
   "metadata": {},
   "source": [
    "### The project included comprehensive exploratory data analysis, data cleansing, and data visualization. Multiclass predictive models using machine learning from sci-kit learn libraries included K-nearest neighbor, Support Vector Machines, and Random Forest. The end result included the comparison of these models' performance. "
   ]
  },
  {
   "cell_type": "markdown",
   "metadata": {},
   "source": [
    "###### Importing libraries"
   ]
  },
  {
   "cell_type": "code",
   "execution_count": 248,
   "metadata": {},
   "outputs": [],
   "source": [
    "import numpy as np\n",
    "import pandas as pd\n",
    "import matplotlib.pyplot as plt\n",
    "import seaborn as sns\n",
    "%matplotlib inline"
   ]
  },
  {
   "cell_type": "markdown",
   "metadata": {},
   "source": [
    "###### Opening and reading downloaded dataset"
   ]
  },
  {
   "cell_type": "code",
   "execution_count": 249,
   "metadata": {},
   "outputs": [],
   "source": [
    "data = pd.read_excel(\"Hospital General Information.xlsx\")"
   ]
  },
  {
   "cell_type": "code",
   "execution_count": 250,
   "metadata": {},
   "outputs": [
    {
     "data": {
      "text/html": [
       "<div>\n",
       "<style scoped>\n",
       "    .dataframe tbody tr th:only-of-type {\n",
       "        vertical-align: middle;\n",
       "    }\n",
       "\n",
       "    .dataframe tbody tr th {\n",
       "        vertical-align: top;\n",
       "    }\n",
       "\n",
       "    .dataframe thead th {\n",
       "        text-align: right;\n",
       "    }\n",
       "</style>\n",
       "<table border=\"1\" class=\"dataframe\">\n",
       "  <thead>\n",
       "    <tr style=\"text-align: right;\">\n",
       "      <th></th>\n",
       "      <th>Provider ID</th>\n",
       "      <th>Hospital Name</th>\n",
       "      <th>Address</th>\n",
       "      <th>City</th>\n",
       "      <th>State</th>\n",
       "      <th>ZIP Code</th>\n",
       "      <th>County Name</th>\n",
       "      <th>Phone Number</th>\n",
       "      <th>Hospital Type</th>\n",
       "      <th>Hospital Ownership</th>\n",
       "      <th>...</th>\n",
       "      <th>Readmission national comparison</th>\n",
       "      <th>Readmission national comparison footnote</th>\n",
       "      <th>Patient experience national comparison</th>\n",
       "      <th>Patient experience national comparison footnote</th>\n",
       "      <th>Effectiveness of care national comparison</th>\n",
       "      <th>Effectiveness of care national comparison footnote</th>\n",
       "      <th>Timeliness of care national comparison</th>\n",
       "      <th>Timeliness of care national comparison footnote</th>\n",
       "      <th>Efficient use of medical imaging national comparison</th>\n",
       "      <th>Efficient use of medical imaging national comparison footnote</th>\n",
       "    </tr>\n",
       "  </thead>\n",
       "  <tbody>\n",
       "    <tr>\n",
       "      <th>0</th>\n",
       "      <td>10001</td>\n",
       "      <td>SOUTHEAST ALABAMA MEDICAL CENTER</td>\n",
       "      <td>1108 ROSS CLARK CIRCLE</td>\n",
       "      <td>DOTHAN</td>\n",
       "      <td>AL</td>\n",
       "      <td>36301</td>\n",
       "      <td>HOUSTON</td>\n",
       "      <td>3347938701</td>\n",
       "      <td>Acute Care Hospitals</td>\n",
       "      <td>Government - Hospital District or Authority</td>\n",
       "      <td>...</td>\n",
       "      <td>Same as the national average</td>\n",
       "      <td>NaN</td>\n",
       "      <td>Below the national average</td>\n",
       "      <td>NaN</td>\n",
       "      <td>Same as the national average</td>\n",
       "      <td>NaN</td>\n",
       "      <td>Same as the national average</td>\n",
       "      <td>NaN</td>\n",
       "      <td>Same as the national average</td>\n",
       "      <td>NaN</td>\n",
       "    </tr>\n",
       "    <tr>\n",
       "      <th>1</th>\n",
       "      <td>10005</td>\n",
       "      <td>MARSHALL MEDICAL CENTER SOUTH</td>\n",
       "      <td>2505 U S HIGHWAY 431 NORTH</td>\n",
       "      <td>BOAZ</td>\n",
       "      <td>AL</td>\n",
       "      <td>35957</td>\n",
       "      <td>MARSHALL</td>\n",
       "      <td>2565938310</td>\n",
       "      <td>Acute Care Hospitals</td>\n",
       "      <td>Government - Hospital District or Authority</td>\n",
       "      <td>...</td>\n",
       "      <td>Above the national average</td>\n",
       "      <td>NaN</td>\n",
       "      <td>Same as the national average</td>\n",
       "      <td>NaN</td>\n",
       "      <td>Same as the national average</td>\n",
       "      <td>NaN</td>\n",
       "      <td>Above the national average</td>\n",
       "      <td>NaN</td>\n",
       "      <td>Below the national average</td>\n",
       "      <td>NaN</td>\n",
       "    </tr>\n",
       "    <tr>\n",
       "      <th>2</th>\n",
       "      <td>10006</td>\n",
       "      <td>ELIZA COFFEE MEMORIAL HOSPITAL</td>\n",
       "      <td>205 MARENGO STREET</td>\n",
       "      <td>FLORENCE</td>\n",
       "      <td>AL</td>\n",
       "      <td>35631</td>\n",
       "      <td>LAUDERDALE</td>\n",
       "      <td>2567688400</td>\n",
       "      <td>Acute Care Hospitals</td>\n",
       "      <td>Government - Hospital District or Authority</td>\n",
       "      <td>...</td>\n",
       "      <td>Same as the national average</td>\n",
       "      <td>NaN</td>\n",
       "      <td>Below the national average</td>\n",
       "      <td>NaN</td>\n",
       "      <td>Same as the national average</td>\n",
       "      <td>NaN</td>\n",
       "      <td>Above the national average</td>\n",
       "      <td>NaN</td>\n",
       "      <td>Same as the national average</td>\n",
       "      <td>NaN</td>\n",
       "    </tr>\n",
       "    <tr>\n",
       "      <th>3</th>\n",
       "      <td>10007</td>\n",
       "      <td>MIZELL MEMORIAL HOSPITAL</td>\n",
       "      <td>702 N MAIN ST</td>\n",
       "      <td>OPP</td>\n",
       "      <td>AL</td>\n",
       "      <td>36467</td>\n",
       "      <td>COVINGTON</td>\n",
       "      <td>3344933541</td>\n",
       "      <td>Acute Care Hospitals</td>\n",
       "      <td>Voluntary non-profit - Private</td>\n",
       "      <td>...</td>\n",
       "      <td>Below the national average</td>\n",
       "      <td>NaN</td>\n",
       "      <td>Same as the national average</td>\n",
       "      <td>NaN</td>\n",
       "      <td>Below the national average</td>\n",
       "      <td>NaN</td>\n",
       "      <td>Above the national average</td>\n",
       "      <td>NaN</td>\n",
       "      <td>Not Available</td>\n",
       "      <td>Results are not available for this reporting p...</td>\n",
       "    </tr>\n",
       "    <tr>\n",
       "      <th>4</th>\n",
       "      <td>10008</td>\n",
       "      <td>CRENSHAW COMMUNITY HOSPITAL</td>\n",
       "      <td>101 HOSPITAL CIRCLE</td>\n",
       "      <td>LUVERNE</td>\n",
       "      <td>AL</td>\n",
       "      <td>36049</td>\n",
       "      <td>CRENSHAW</td>\n",
       "      <td>3343353374</td>\n",
       "      <td>Acute Care Hospitals</td>\n",
       "      <td>Proprietary</td>\n",
       "      <td>...</td>\n",
       "      <td>Same as the national average</td>\n",
       "      <td>NaN</td>\n",
       "      <td>Not Available</td>\n",
       "      <td>Results are not available for this reporting p...</td>\n",
       "      <td>Same as the national average</td>\n",
       "      <td>NaN</td>\n",
       "      <td>Above the national average</td>\n",
       "      <td>NaN</td>\n",
       "      <td>Not Available</td>\n",
       "      <td>Results are not available for this reporting p...</td>\n",
       "    </tr>\n",
       "  </tbody>\n",
       "</table>\n",
       "<p>5 rows × 28 columns</p>\n",
       "</div>"
      ],
      "text/plain": [
       "   Provider ID                     Hospital Name                     Address  \\\n",
       "0        10001  SOUTHEAST ALABAMA MEDICAL CENTER      1108 ROSS CLARK CIRCLE   \n",
       "1        10005     MARSHALL MEDICAL CENTER SOUTH  2505 U S HIGHWAY 431 NORTH   \n",
       "2        10006    ELIZA COFFEE MEMORIAL HOSPITAL          205 MARENGO STREET   \n",
       "3        10007          MIZELL MEMORIAL HOSPITAL               702 N MAIN ST   \n",
       "4        10008       CRENSHAW COMMUNITY HOSPITAL         101 HOSPITAL CIRCLE   \n",
       "\n",
       "       City State  ZIP Code County Name  Phone Number         Hospital Type  \\\n",
       "0    DOTHAN    AL     36301     HOUSTON    3347938701  Acute Care Hospitals   \n",
       "1      BOAZ    AL     35957    MARSHALL    2565938310  Acute Care Hospitals   \n",
       "2  FLORENCE    AL     35631  LAUDERDALE    2567688400  Acute Care Hospitals   \n",
       "3       OPP    AL     36467   COVINGTON    3344933541  Acute Care Hospitals   \n",
       "4   LUVERNE    AL     36049    CRENSHAW    3343353374  Acute Care Hospitals   \n",
       "\n",
       "                            Hospital Ownership  ...  \\\n",
       "0  Government - Hospital District or Authority  ...   \n",
       "1  Government - Hospital District or Authority  ...   \n",
       "2  Government - Hospital District or Authority  ...   \n",
       "3               Voluntary non-profit - Private  ...   \n",
       "4                                  Proprietary  ...   \n",
       "\n",
       "  Readmission national comparison Readmission national comparison footnote  \\\n",
       "0    Same as the national average                                      NaN   \n",
       "1      Above the national average                                      NaN   \n",
       "2    Same as the national average                                      NaN   \n",
       "3      Below the national average                                      NaN   \n",
       "4    Same as the national average                                      NaN   \n",
       "\n",
       "  Patient experience national comparison  \\\n",
       "0             Below the national average   \n",
       "1           Same as the national average   \n",
       "2             Below the national average   \n",
       "3           Same as the national average   \n",
       "4                          Not Available   \n",
       "\n",
       "     Patient experience national comparison footnote  \\\n",
       "0                                                NaN   \n",
       "1                                                NaN   \n",
       "2                                                NaN   \n",
       "3                                                NaN   \n",
       "4  Results are not available for this reporting p...   \n",
       "\n",
       "  Effectiveness of care national comparison  \\\n",
       "0              Same as the national average   \n",
       "1              Same as the national average   \n",
       "2              Same as the national average   \n",
       "3                Below the national average   \n",
       "4              Same as the national average   \n",
       "\n",
       "  Effectiveness of care national comparison footnote  \\\n",
       "0                                                NaN   \n",
       "1                                                NaN   \n",
       "2                                                NaN   \n",
       "3                                                NaN   \n",
       "4                                                NaN   \n",
       "\n",
       "  Timeliness of care national comparison  \\\n",
       "0           Same as the national average   \n",
       "1             Above the national average   \n",
       "2             Above the national average   \n",
       "3             Above the national average   \n",
       "4             Above the national average   \n",
       "\n",
       "  Timeliness of care national comparison footnote  \\\n",
       "0                                             NaN   \n",
       "1                                             NaN   \n",
       "2                                             NaN   \n",
       "3                                             NaN   \n",
       "4                                             NaN   \n",
       "\n",
       "  Efficient use of medical imaging national comparison  \\\n",
       "0                       Same as the national average     \n",
       "1                         Below the national average     \n",
       "2                       Same as the national average     \n",
       "3                                      Not Available     \n",
       "4                                      Not Available     \n",
       "\n",
       "  Efficient use of medical imaging national comparison footnote  \n",
       "0                                                NaN             \n",
       "1                                                NaN             \n",
       "2                                                NaN             \n",
       "3  Results are not available for this reporting p...             \n",
       "4  Results are not available for this reporting p...             \n",
       "\n",
       "[5 rows x 28 columns]"
      ]
     },
     "execution_count": 250,
     "metadata": {},
     "output_type": "execute_result"
    }
   ],
   "source": [
    "data.head()"
   ]
  },
  {
   "cell_type": "markdown",
   "metadata": {},
   "source": [
    "###### Checking out the info on dataset to see what am I dealing with. Noted that features ending with *footnote have low non-null values. Almost all are objects except for provider ID, ZIP code, and phone numbers are numbers, which makes sense. The dataset is categorical-heavy. This means categorical graphs will be used frequently during the exploratory data analysis. "
   ]
  },
  {
   "cell_type": "code",
   "execution_count": 251,
   "metadata": {},
   "outputs": [
    {
     "name": "stdout",
     "output_type": "stream",
     "text": [
      "<class 'pandas.core.frame.DataFrame'>\n",
      "RangeIndex: 4812 entries, 0 to 4811\n",
      "Data columns (total 28 columns):\n",
      " #   Column                                                         Non-Null Count  Dtype \n",
      "---  ------                                                         --------------  ----- \n",
      " 0   Provider ID                                                    4812 non-null   int64 \n",
      " 1   Hospital Name                                                  4812 non-null   object\n",
      " 2   Address                                                        4812 non-null   object\n",
      " 3   City                                                           4812 non-null   object\n",
      " 4   State                                                          4812 non-null   object\n",
      " 5   ZIP Code                                                       4812 non-null   int64 \n",
      " 6   County Name                                                    4797 non-null   object\n",
      " 7   Phone Number                                                   4812 non-null   int64 \n",
      " 8   Hospital Type                                                  4812 non-null   object\n",
      " 9   Hospital Ownership                                             4812 non-null   object\n",
      " 10  Emergency Services                                             4812 non-null   object\n",
      " 11  Meets criteria for meaningful use of EHRs                      4669 non-null   object\n",
      " 12  Hospital overall rating                                        4812 non-null   object\n",
      " 13  Hospital overall rating footnote                               1398 non-null   object\n",
      " 14  Mortality national comparison                                  4812 non-null   object\n",
      " 15  Mortality national comparison footnote                         1352 non-null   object\n",
      " 16  Safety of care national comparison                             4812 non-null   object\n",
      " 17  Safety of care national comparison footnote                    2168 non-null   object\n",
      " 18  Readmission national comparison                                4812 non-null   object\n",
      " 19  Readmission national comparison footnote                       1017 non-null   object\n",
      " 20  Patient experience national comparison                         4812 non-null   object\n",
      " 21  Patient experience national comparison footnote                1369 non-null   object\n",
      " 22  Effectiveness of care national comparison                      4812 non-null   object\n",
      " 23  Effectiveness of care national comparison footnote             1202 non-null   object\n",
      " 24  Timeliness of care national comparison                         4812 non-null   object\n",
      " 25  Timeliness of care national comparison footnote                1266 non-null   object\n",
      " 26  Efficient use of medical imaging national comparison           4812 non-null   object\n",
      " 27  Efficient use of medical imaging national comparison footnote  2033 non-null   object\n",
      "dtypes: int64(3), object(25)\n",
      "memory usage: 1.0+ MB\n"
     ]
    }
   ],
   "source": [
    "data.info()"
   ]
  },
  {
   "cell_type": "markdown",
   "metadata": {},
   "source": [
    "###### Checking out the total null counts helps me decide to drop them completely or replace them with relevant values. "
   ]
  },
  {
   "cell_type": "code",
   "execution_count": 252,
   "metadata": {},
   "outputs": [
    {
     "data": {
      "text/plain": [
       "Provider ID                                                         0\n",
       "Hospital Name                                                       0\n",
       "Address                                                             0\n",
       "City                                                                0\n",
       "State                                                               0\n",
       "ZIP Code                                                            0\n",
       "County Name                                                        15\n",
       "Phone Number                                                        0\n",
       "Hospital Type                                                       0\n",
       "Hospital Ownership                                                  0\n",
       "Emergency Services                                                  0\n",
       "Meets criteria for meaningful use of EHRs                         143\n",
       "Hospital overall rating                                             0\n",
       "Hospital overall rating footnote                                 3414\n",
       "Mortality national comparison                                       0\n",
       "Mortality national comparison footnote                           3460\n",
       "Safety of care national comparison                                  0\n",
       "Safety of care national comparison footnote                      2644\n",
       "Readmission national comparison                                     0\n",
       "Readmission national comparison footnote                         3795\n",
       "Patient experience national comparison                              0\n",
       "Patient experience national comparison footnote                  3443\n",
       "Effectiveness of care national comparison                           0\n",
       "Effectiveness of care national comparison footnote               3610\n",
       "Timeliness of care national comparison                              0\n",
       "Timeliness of care national comparison footnote                  3546\n",
       "Efficient use of medical imaging national comparison                0\n",
       "Efficient use of medical imaging national comparison footnote    2779\n",
       "dtype: int64"
      ]
     },
     "execution_count": 252,
     "metadata": {},
     "output_type": "execute_result"
    }
   ],
   "source": [
    "data.isnull().sum()"
   ]
  },
  {
   "cell_type": "markdown",
   "metadata": {},
   "source": [
    "###### Diving in to see what is in *footnote - Mostly description, not very informational in our work here. "
   ]
  },
  {
   "cell_type": "code",
   "execution_count": 253,
   "metadata": {},
   "outputs": [
    {
     "data": {
      "text/plain": [
       "There are too few measures or measure groups reported to calculate a star rating or measure group score                                        995\n",
       "Data are shown only for hospitals that participate in the Inpatient Quality Reporting (IQR) and Outpatient Quality Reporting (OQR) programs    159\n",
       "This hospital�s star rating only includes data reported on inpatient services                                                                  153\n",
       "Data suppressed by CMS for one or more quarters                                                                                                 49\n",
       "Results are not available for this reporting period                                                                                             42\n",
       "Name: Hospital overall rating footnote, dtype: int64"
      ]
     },
     "execution_count": 253,
     "metadata": {},
     "output_type": "execute_result"
    }
   ],
   "source": [
    "data[\"Hospital overall rating footnote\"].value_counts()"
   ]
  },
  {
   "cell_type": "markdown",
   "metadata": {},
   "source": [
    "###### I have decided to just drop those *footnote features since the information is not relevant to this project."
   ]
  },
  {
   "cell_type": "code",
   "execution_count": 254,
   "metadata": {},
   "outputs": [],
   "source": [
    "data = data.drop([\"Hospital overall rating footnote\", \"Mortality national comparison footnote\", \n",
    "          \"Safety of care national comparison footnote\", \"Readmission national comparison footnote\",\n",
    "         \"Readmission national comparison footnote\", \"Patient experience national comparison footnote\",\n",
    "         \"Effectiveness of care national comparison footnote\", \"Timeliness of care national comparison footnote\",\n",
    "         \"Efficient use of medical imaging national comparison footnote\"], axis=1)"
   ]
  },
  {
   "cell_type": "markdown",
   "metadata": {},
   "source": [
    "###### Rechecking what is left - The length of the dataset is ~4800. I have decided to just drop the 15 null values on county name. Need to look into \"Meets criteria for meaningful use of EHRs\" and decide if dropping 143 null values will make sense. "
   ]
  },
  {
   "cell_type": "code",
   "execution_count": 255,
   "metadata": {},
   "outputs": [
    {
     "data": {
      "text/plain": [
       "Provider ID                                               0\n",
       "Hospital Name                                             0\n",
       "Address                                                   0\n",
       "City                                                      0\n",
       "State                                                     0\n",
       "ZIP Code                                                  0\n",
       "County Name                                              15\n",
       "Phone Number                                              0\n",
       "Hospital Type                                             0\n",
       "Hospital Ownership                                        0\n",
       "Emergency Services                                        0\n",
       "Meets criteria for meaningful use of EHRs               143\n",
       "Hospital overall rating                                   0\n",
       "Mortality national comparison                             0\n",
       "Safety of care national comparison                        0\n",
       "Readmission national comparison                           0\n",
       "Patient experience national comparison                    0\n",
       "Effectiveness of care national comparison                 0\n",
       "Timeliness of care national comparison                    0\n",
       "Efficient use of medical imaging national comparison      0\n",
       "dtype: int64"
      ]
     },
     "execution_count": 255,
     "metadata": {},
     "output_type": "execute_result"
    }
   ],
   "source": [
    "data.isnull().sum()"
   ]
  },
  {
   "cell_type": "code",
   "execution_count": 256,
   "metadata": {},
   "outputs": [
    {
     "data": {
      "text/plain": [
       "Y                4668\n",
       "Not Available       1\n",
       "Name: Meets criteria for meaningful use of EHRs, dtype: int64"
      ]
     },
     "execution_count": 256,
     "metadata": {},
     "output_type": "execute_result"
    }
   ],
   "source": [
    "data[\"Meets criteria for meaningful use of EHRs\"].value_counts()"
   ]
  },
  {
   "cell_type": "markdown",
   "metadata": {},
   "source": [
    "###### Almost 90% of the data for feature \"Meets criteria for meaningful use of EHR\" is Yes and 1 is Not Available. I will just drop this feature since the data is not too helpful. "
   ]
  },
  {
   "cell_type": "code",
   "execution_count": 257,
   "metadata": {},
   "outputs": [
    {
     "data": {
      "text/plain": [
       "Provider ID                                             0\n",
       "Hospital Name                                           0\n",
       "Address                                                 0\n",
       "City                                                    0\n",
       "State                                                   0\n",
       "ZIP Code                                                0\n",
       "County Name                                             0\n",
       "Phone Number                                            0\n",
       "Hospital Type                                           0\n",
       "Hospital Ownership                                      0\n",
       "Emergency Services                                      0\n",
       "Meets criteria for meaningful use of EHRs               0\n",
       "Hospital overall rating                                 0\n",
       "Mortality national comparison                           0\n",
       "Safety of care national comparison                      0\n",
       "Readmission national comparison                         0\n",
       "Patient experience national comparison                  0\n",
       "Effectiveness of care national comparison               0\n",
       "Timeliness of care national comparison                  0\n",
       "Efficient use of medical imaging national comparison    0\n",
       "dtype: int64"
      ]
     },
     "execution_count": 257,
     "metadata": {},
     "output_type": "execute_result"
    }
   ],
   "source": [
    "data = data.dropna()\n",
    "data.isnull().sum()"
   ]
  },
  {
   "cell_type": "markdown",
   "metadata": {},
   "source": [
    "###### Now I have a non-null data to work with. The exploratory data analysis begins here. The features listed in the top line will be used as my roadmap for exploration. First, I will do a basic descriptive analysis. "
   ]
  },
  {
   "cell_type": "code",
   "execution_count": 258,
   "metadata": {},
   "outputs": [
    {
     "data": {
      "text/html": [
       "<div>\n",
       "<style scoped>\n",
       "    .dataframe tbody tr th:only-of-type {\n",
       "        vertical-align: middle;\n",
       "    }\n",
       "\n",
       "    .dataframe tbody tr th {\n",
       "        vertical-align: top;\n",
       "    }\n",
       "\n",
       "    .dataframe thead th {\n",
       "        text-align: right;\n",
       "    }\n",
       "</style>\n",
       "<table border=\"1\" class=\"dataframe\">\n",
       "  <thead>\n",
       "    <tr style=\"text-align: right;\">\n",
       "      <th></th>\n",
       "      <th>Provider ID</th>\n",
       "      <th>ZIP Code</th>\n",
       "      <th>Phone Number</th>\n",
       "    </tr>\n",
       "  </thead>\n",
       "  <tbody>\n",
       "    <tr>\n",
       "      <th>count</th>\n",
       "      <td>4655.000000</td>\n",
       "      <td>4655.000000</td>\n",
       "      <td>4.655000e+03</td>\n",
       "    </tr>\n",
       "    <tr>\n",
       "      <th>mean</th>\n",
       "      <td>266722.448335</td>\n",
       "      <td>53780.188614</td>\n",
       "      <td>5.849839e+09</td>\n",
       "    </tr>\n",
       "    <tr>\n",
       "      <th>std</th>\n",
       "      <td>154614.918602</td>\n",
       "      <td>26804.881596</td>\n",
       "      <td>2.328346e+09</td>\n",
       "    </tr>\n",
       "    <tr>\n",
       "      <th>min</th>\n",
       "      <td>10001.000000</td>\n",
       "      <td>603.000000</td>\n",
       "      <td>9.369338e+08</td>\n",
       "    </tr>\n",
       "    <tr>\n",
       "      <th>25%</th>\n",
       "      <td>140194.000000</td>\n",
       "      <td>32995.000000</td>\n",
       "      <td>4.017335e+09</td>\n",
       "    </tr>\n",
       "    <tr>\n",
       "      <th>50%</th>\n",
       "      <td>260011.000000</td>\n",
       "      <td>55066.000000</td>\n",
       "      <td>6.053844e+09</td>\n",
       "    </tr>\n",
       "    <tr>\n",
       "      <th>75%</th>\n",
       "      <td>390179.500000</td>\n",
       "      <td>75818.000000</td>\n",
       "      <td>7.877360e+09</td>\n",
       "    </tr>\n",
       "    <tr>\n",
       "      <th>max</th>\n",
       "      <td>670114.000000</td>\n",
       "      <td>99901.000000</td>\n",
       "      <td>9.898943e+09</td>\n",
       "    </tr>\n",
       "  </tbody>\n",
       "</table>\n",
       "</div>"
      ],
      "text/plain": [
       "         Provider ID      ZIP Code  Phone Number\n",
       "count    4655.000000   4655.000000  4.655000e+03\n",
       "mean   266722.448335  53780.188614  5.849839e+09\n",
       "std    154614.918602  26804.881596  2.328346e+09\n",
       "min     10001.000000    603.000000  9.369338e+08\n",
       "25%    140194.000000  32995.000000  4.017335e+09\n",
       "50%    260011.000000  55066.000000  6.053844e+09\n",
       "75%    390179.500000  75818.000000  7.877360e+09\n",
       "max    670114.000000  99901.000000  9.898943e+09"
      ]
     },
     "execution_count": 258,
     "metadata": {},
     "output_type": "execute_result"
    }
   ],
   "source": [
    "data.describe()"
   ]
  },
  {
   "cell_type": "markdown",
   "metadata": {},
   "source": [
    "###### The descriptive analysis does not help much. The ZIP code will provide us some geographical information. I suspect Provider ID is a unique feature (primary key). Phone numbers don't help much. Planned to drop Provider ID if this feature is used as unique identifier, which is not helpful in the project. Also will drop phone numbers. "
   ]
  },
  {
   "cell_type": "code",
   "execution_count": 259,
   "metadata": {},
   "outputs": [
    {
     "data": {
      "text/plain": [
       "4655"
      ]
     },
     "execution_count": 259,
     "metadata": {},
     "output_type": "execute_result"
    }
   ],
   "source": [
    "data[\"Provider ID\"].nunique()"
   ]
  },
  {
   "cell_type": "markdown",
   "metadata": {},
   "source": [
    "###### My dropping list now contains Provider ID, Phone Number, and Meets criteria for meaningful use of EHRs. Let's check county name if it is a useful feature."
   ]
  },
  {
   "cell_type": "code",
   "execution_count": 260,
   "metadata": {},
   "outputs": [
    {
     "data": {
      "text/plain": [
       "LOS ANGELES          79\n",
       "COOK                 51\n",
       "JEFFERSON            46\n",
       "WASHINGTON           43\n",
       "MONTGOMERY           41\n",
       "                     ..\n",
       "CAYUGA                1\n",
       "LOS ALAMOS            1\n",
       "MATANUSKA SUSITNA     1\n",
       "LYNCHBURG CITY        1\n",
       "FOSTER                1\n",
       "Name: County Name, Length: 1547, dtype: int64"
      ]
     },
     "execution_count": 260,
     "metadata": {},
     "output_type": "execute_result"
    }
   ],
   "source": [
    "data[\"County Name\"].value_counts()"
   ]
  },
  {
   "cell_type": "markdown",
   "metadata": {},
   "source": [
    "###### The County Name feature has length of ~1500. It is not feasible to keep this feature in our machine learning process later. Moreover, the ZIP code should be enough to provide us geographical information. Planned to drop this feature as well. "
   ]
  },
  {
   "cell_type": "code",
   "execution_count": 261,
   "metadata": {},
   "outputs": [],
   "source": [
    "data = data.drop([\"County Name\", \"Meets criteria for meaningful use of EHRs\", \"Provider ID\", \"Phone Number\"], axis=1)"
   ]
  },
  {
   "cell_type": "code",
   "execution_count": 262,
   "metadata": {},
   "outputs": [
    {
     "name": "stdout",
     "output_type": "stream",
     "text": [
      "<class 'pandas.core.frame.DataFrame'>\n",
      "Int64Index: 4655 entries, 0 to 4803\n",
      "Data columns (total 16 columns):\n",
      " #   Column                                                Non-Null Count  Dtype \n",
      "---  ------                                                --------------  ----- \n",
      " 0   Hospital Name                                         4655 non-null   object\n",
      " 1   Address                                               4655 non-null   object\n",
      " 2   City                                                  4655 non-null   object\n",
      " 3   State                                                 4655 non-null   object\n",
      " 4   ZIP Code                                              4655 non-null   int64 \n",
      " 5   Hospital Type                                         4655 non-null   object\n",
      " 6   Hospital Ownership                                    4655 non-null   object\n",
      " 7   Emergency Services                                    4655 non-null   object\n",
      " 8   Hospital overall rating                               4655 non-null   object\n",
      " 9   Mortality national comparison                         4655 non-null   object\n",
      " 10  Safety of care national comparison                    4655 non-null   object\n",
      " 11  Readmission national comparison                       4655 non-null   object\n",
      " 12  Patient experience national comparison                4655 non-null   object\n",
      " 13  Effectiveness of care national comparison             4655 non-null   object\n",
      " 14  Timeliness of care national comparison                4655 non-null   object\n",
      " 15  Efficient use of medical imaging national comparison  4655 non-null   object\n",
      "dtypes: int64(1), object(15)\n",
      "memory usage: 618.2+ KB\n"
     ]
    }
   ],
   "source": [
    "data.info()"
   ]
  },
  {
   "cell_type": "markdown",
   "metadata": {},
   "source": [
    "###### There are a few more features to consider dropping before moving to the core areas - Hospital Name and Address. I'm not too sure if these features are useful in this project. "
   ]
  },
  {
   "cell_type": "code",
   "execution_count": 263,
   "metadata": {},
   "outputs": [
    {
     "data": {
      "text/plain": [
       "MEMORIAL HOSPITAL                                15\n",
       "COMMUNITY MEMORIAL HOSPITAL                       7\n",
       "GOOD SAMARITAN HOSPITAL                           7\n",
       "ST JOSEPH HOSPITAL                                7\n",
       "ST FRANCIS HOSPITAL                               6\n",
       "                                                 ..\n",
       "ATCHISON HOSPITAL                                 1\n",
       "PIONEER HEALTH SERVICES OF PATRICK COUNTY,INC     1\n",
       "SAINT FRANCIS BARTLETT MEDICAL CENTER             1\n",
       "FLOWER HOSPITAL                                   1\n",
       "MEMORIAL HOSPITAL OF TAMPA                        1\n",
       "Name: Hospital Name, Length: 4473, dtype: int64"
      ]
     },
     "execution_count": 263,
     "metadata": {},
     "output_type": "execute_result"
    }
   ],
   "source": [
    "data[\"Hospital Name\"].value_counts()"
   ]
  },
  {
   "cell_type": "code",
   "execution_count": 264,
   "metadata": {},
   "outputs": [
    {
     "data": {
      "text/plain": [
       "100 HOSPITAL DRIVE                           7\n",
       "100 MEDICAL CENTER DRIVE                     4\n",
       "200 HOSPITAL DRIVE                           4\n",
       "ONE HOSPITAL DRIVE                           3\n",
       "100 HOSPITAL ROAD                            2\n",
       "                                            ..\n",
       "1206 GORDON DUCKWORTH DRIVE                  1\n",
       "845 PARKSIDE ST                              1\n",
       "1800 UNIVERSITY BOULEVARD                    1\n",
       "1601 WATSON BOULEVARD                        1\n",
       "AVE. PEDRO ALBIZU CAMPOS URB. LA HACIENDA    1\n",
       "Name: Address, Length: 4628, dtype: int64"
      ]
     },
     "execution_count": 264,
     "metadata": {},
     "output_type": "execute_result"
    }
   ],
   "source": [
    "data[\"Address\"].value_counts()"
   ]
  },
  {
   "cell_type": "code",
   "execution_count": 265,
   "metadata": {},
   "outputs": [],
   "source": [
    "data = data.drop([\"Address\", \"Hospital Name\"], axis=1)"
   ]
  },
  {
   "cell_type": "markdown",
   "metadata": {},
   "source": [
    "## Comprehensive Exploratory Data Analysis"
   ]
  },
  {
   "cell_type": "code",
   "execution_count": 266,
   "metadata": {},
   "outputs": [
    {
     "data": {
      "text/plain": [
       "Acute Care Hospitals         3256\n",
       "Critical Access Hospitals    1308\n",
       "Childrens                      91\n",
       "Name: Hospital Type, dtype: int64"
      ]
     },
     "execution_count": 266,
     "metadata": {},
     "output_type": "execute_result"
    }
   ],
   "source": [
    "data[\"Hospital Type\"].value_counts()"
   ]
  },
  {
   "cell_type": "markdown",
   "metadata": {},
   "source": [
    "###### The majority of the hospitals in the USA are acute care hospitals, followed by critical access, and children. "
   ]
  },
  {
   "cell_type": "code",
   "execution_count": 267,
   "metadata": {},
   "outputs": [
    {
     "data": {
      "text/plain": [
       "<AxesSubplot:xlabel='Hospital Type', ylabel='count'>"
      ]
     },
     "execution_count": 267,
     "metadata": {},
     "output_type": "execute_result"
    },
    {
     "data": {
      "image/png": "[encoded data removed]",
      "text/plain": [
       "<Figure size 864x360 with 1 Axes>"
      ]
     },
     "metadata": {
      "needs_background": "light"
     },
     "output_type": "display_data"
    }
   ],
   "source": [
    "plt.figure(figsize=(12,5))\n",
    "sns.set_context(\"paper\", font_scale=1.5)\n",
    "sns.countplot(x=data[\"Hospital Type\"], data=data, color=\"red\", alpha=0.4)"
   ]
  },
  {
   "cell_type": "code",
   "execution_count": 268,
   "metadata": {},
   "outputs": [
    {
     "data": {
      "text/plain": [
       "Yes    4398\n",
       "No      257\n",
       "Name: Emergency Services, dtype: int64"
      ]
     },
     "execution_count": 268,
     "metadata": {},
     "output_type": "execute_result"
    }
   ],
   "source": [
    "data[\"Emergency Services\"].value_counts()"
   ]
  },
  {
   "cell_type": "markdown",
   "metadata": {},
   "source": [
    "###### The majority of the acute care hospitals and critical access have some sort of Emergency Services, unlike children's hospital. This makes sense as children's hospital is a specialty, usually affiliated with large acute care hospital in health systems. "
   ]
  },
  {
   "cell_type": "code",
   "execution_count": 269,
   "metadata": {},
   "outputs": [
    {
     "data": {
      "text/plain": [
       "<AxesSubplot:xlabel='Hospital Type', ylabel='count'>"
      ]
     },
     "execution_count": 269,
     "metadata": {},
     "output_type": "execute_result"
    },
    {
     "data": {
      "image/png": "[encoded data removed]",
      "text/plain": [
       "<Figure size 864x504 with 1 Axes>"
      ]
     },
     "metadata": {
      "needs_background": "light"
     },
     "output_type": "display_data"
    }
   ],
   "source": [
    "plt.figure(figsize=(12,7))\n",
    "sns.countplot(x=\"Hospital Type\", data=data, hue=\"Emergency Services\", palette=\"ocean_r\")"
   ]
  },
  {
   "cell_type": "code",
   "execution_count": 270,
   "metadata": {},
   "outputs": [
    {
     "data": {
      "text/plain": [
       "<AxesSubplot:xlabel='Emergency Services', ylabel='count'>"
      ]
     },
     "execution_count": 270,
     "metadata": {},
     "output_type": "execute_result"
    },
    {
     "data": {
      "image/png": "[encoded data removed]",
      "text/plain": [
       "<Figure size 648x360 with 1 Axes>"
      ]
     },
     "metadata": {
      "needs_background": "light"
     },
     "output_type": "display_data"
    }
   ],
   "source": [
    "plt.figure(figsize=(9,5))\n",
    "sns.set_context(\"paper\", font_scale=1.5)\n",
    "sns.countplot(x=\"Emergency Services\", data=data, color=\"blue\", alpha=0.4)"
   ]
  },
  {
   "cell_type": "code",
   "execution_count": 271,
   "metadata": {},
   "outputs": [
    {
     "data": {
      "text/plain": [
       "Voluntary non-profit - Private                 2003\n",
       "Proprietary                                     753\n",
       "Government - Hospital District or Authority     544\n",
       "Voluntary non-profit - Other                    456\n",
       "Government - Local                              392\n",
       "Voluntary non-profit - Church                   341\n",
       "Government - State                               60\n",
       "Physician                                        55\n",
       "Government - Federal                             42\n",
       "Tribal                                            9\n",
       "Name: Hospital Ownership, dtype: int64"
      ]
     },
     "execution_count": 271,
     "metadata": {},
     "output_type": "execute_result"
    }
   ],
   "source": [
    "data[\"Hospital Ownership\"].value_counts()"
   ]
  },
  {
   "cell_type": "markdown",
   "metadata": {},
   "source": [
    "###### The majority of the hospitals in the USA is private non-profit, government and faith-based. This is followed by physician-owned hospitals and tribal-owned bottoms the list. It is probably due to the total population of the tribes is relatively low compared to the non-tribes. The supply and demand laws in healthcare applies here.  "
   ]
  },
  {
   "cell_type": "code",
   "execution_count": 272,
   "metadata": {},
   "outputs": [
    {
     "data": {
      "text/plain": [
       "<AxesSubplot:xlabel='count', ylabel='Hospital Ownership'>"
      ]
     },
     "execution_count": 272,
     "metadata": {},
     "output_type": "execute_result"
    },
    {
     "data": {
      "image/png": "[encoded data removed]",
      "text/plain": [
       "<Figure size 864x504 with 1 Axes>"
      ]
     },
     "metadata": {
      "needs_background": "light"
     },
     "output_type": "display_data"
    }
   ],
   "source": [
    "plt.figure(figsize=(12, 7))\n",
    "sns.set_context(\"paper\", font_scale=1.5)\n",
    "order = data[\"Hospital Ownership\"].value_counts().sort_values(ascending=False).index\n",
    "sns.countplot(y=\"Hospital Ownership\", data=data, color=\"green\", alpha=0.4, order=order)"
   ]
  },
  {
   "cell_type": "code",
   "execution_count": 273,
   "metadata": {},
   "outputs": [
    {
     "data": {
      "text/plain": [
       "Voluntary non-profit - Private                 43.029001\n",
       "Proprietary                                    16.176155\n",
       "Government - Hospital District or Authority    11.686359\n",
       "Voluntary non-profit - Other                    9.795918\n",
       "Government - Local                              8.421053\n",
       "Voluntary non-profit - Church                   7.325456\n",
       "Government - State                              1.288937\n",
       "Physician                                       1.181525\n",
       "Government - Federal                            0.902256\n",
       "Tribal                                          0.193340\n",
       "Name: Hospital Ownership, dtype: float64"
      ]
     },
     "execution_count": 273,
     "metadata": {},
     "output_type": "execute_result"
    }
   ],
   "source": [
    "data[\"Hospital Ownership\"].value_counts(normalize=True)*100"
   ]
  },
  {
   "cell_type": "code",
   "execution_count": 274,
   "metadata": {},
   "outputs": [
    {
     "data": {
      "text/plain": [
       "3                1751\n",
       "Not Available    1113\n",
       "4                 931\n",
       "2                 672\n",
       "1                 107\n",
       "5                  81\n",
       "Name: Hospital overall rating, dtype: int64"
      ]
     },
     "execution_count": 274,
     "metadata": {},
     "output_type": "execute_result"
    }
   ],
   "source": [
    "data[\"Hospital overall rating\"].value_counts()"
   ]
  },
  {
   "cell_type": "markdown",
   "metadata": {},
   "source": [
    "###### Planned to drop the Not Available even though its count is significant. Replacing it with the mean value does not provide us an accurate picture, which is representative of the hospital rating in this country. "
   ]
  },
  {
   "cell_type": "code",
   "execution_count": 275,
   "metadata": {},
   "outputs": [],
   "source": [
    "data = data.drop(data[data[\"Hospital overall rating\"] == \"Not Available\"].index)"
   ]
  },
  {
   "cell_type": "code",
   "execution_count": 276,
   "metadata": {},
   "outputs": [
    {
     "data": {
      "text/plain": [
       "3    49.435347\n",
       "4    26.284585\n",
       "2    18.972332\n",
       "1     3.020892\n",
       "5     2.286844\n",
       "Name: Hospital overall rating, dtype: float64"
      ]
     },
     "execution_count": 276,
     "metadata": {},
     "output_type": "execute_result"
    }
   ],
   "source": [
    "data[\"Hospital overall rating\"].value_counts(normalize=True)*100"
   ]
  },
  {
   "cell_type": "markdown",
   "metadata": {},
   "source": [
    "###### As expected, the majority of the hospitals in the USA falls under the average rating of 3 (49%). The extreme rating 1 and 5, with 5 being the best rating, have the lowest percentages. This is expected as it shows a very small number of hospitals  (3%) are actually under-performed and it is very difficult for hospitals to obtain 5-star rating (only 2%) as performance is based on CMS value-based programs and so forth. At this stage, it is hard to tell if hospitals have resources constraints as the barrier versus CMS requirements are too high. "
   ]
  },
  {
   "cell_type": "code",
   "execution_count": 277,
   "metadata": {},
   "outputs": [
    {
     "data": {
      "text/plain": [
       "<AxesSubplot:xlabel='Hospital overall rating', ylabel='count'>"
      ]
     },
     "execution_count": 277,
     "metadata": {},
     "output_type": "execute_result"
    },
    {
     "data": {
      "image/png": "[encoded data removed]",
      "text/plain": [
       "<Figure size 1080x504 with 1 Axes>"
      ]
     },
     "metadata": {
      "needs_background": "light"
     },
     "output_type": "display_data"
    }
   ],
   "source": [
    "plt.figure(figsize=(15,7))\n",
    "sns.set_context(\"poster\", font_scale=1)\n",
    "sns.countplot(x=data[\"Hospital overall rating\"], palette=\"plasma\")"
   ]
  },
  {
   "cell_type": "markdown",
   "metadata": {},
   "source": [
    "###### Based on the graph above, it is safe to assume that the majority of the hospitals in the USA lean toward average to higher rating (average performers and over-achievers) with smaller percentage of them on the low-end side. In general, hospitals are performing better than worse based on CMS requirements with only abur less than a quarter ~21% are under=performing. This does not reflect the true picture of the current hospital performance; over-time tracking is required to see if hospitals are improving or declining. "
   ]
  },
  {
   "cell_type": "markdown",
   "metadata": {},
   "source": [
    "###### Continuing analysis - will drop Not Available counts in all features. "
   ]
  },
  {
   "cell_type": "code",
   "execution_count": 278,
   "metadata": {},
   "outputs": [
    {
     "data": {
      "text/plain": [
       "Same as the national average    2575\n",
       "Above the national average       400\n",
       "Below the national average       340\n",
       "Not Available                    227\n",
       "Name: Mortality national comparison, dtype: int64"
      ]
     },
     "execution_count": 278,
     "metadata": {},
     "output_type": "execute_result"
    }
   ],
   "source": [
    "data[\"Mortality national comparison\"].value_counts()"
   ]
  },
  {
   "cell_type": "code",
   "execution_count": 279,
   "metadata": {},
   "outputs": [],
   "source": [
    "data = data.drop(data[data[\"Mortality national comparison\"] == \"Not Available\"].index)"
   ]
  },
  {
   "cell_type": "code",
   "execution_count": 280,
   "metadata": {},
   "outputs": [
    {
     "data": {
      "text/plain": [
       "Same as the national average    77.677225\n",
       "Above the national average      12.066365\n",
       "Below the national average      10.256410\n",
       "Name: Mortality national comparison, dtype: float64"
      ]
     },
     "execution_count": 280,
     "metadata": {},
     "output_type": "execute_result"
    }
   ],
   "source": [
    "data[\"Mortality national comparison\"].value_counts(normalize=True)*100"
   ]
  },
  {
   "cell_type": "code",
   "execution_count": 281,
   "metadata": {},
   "outputs": [
    {
     "data": {
      "text/plain": [
       "<AxesSubplot:xlabel='Mortality national comparison', ylabel='count'>"
      ]
     },
     "execution_count": 281,
     "metadata": {},
     "output_type": "execute_result"
    },
    {
     "data": {
      "image/png": "[encoded data removed]",
      "text/plain": [
       "<Figure size 1080x504 with 1 Axes>"
      ]
     },
     "metadata": {
      "needs_background": "light"
     },
     "output_type": "display_data"
    }
   ],
   "source": [
    "plt.figure(figsize=(15,7))\n",
    "sns.set_context(\"paper\", font_scale=1.5)\n",
    "mortality_order = data[\"Mortality national comparison\"].value_counts().sort_values(ascending=False).index\n",
    "sns.countplot(x=data[\"Mortality national comparison\"], color=\"pink\", order=mortality_order)"
   ]
  },
  {
   "cell_type": "code",
   "execution_count": 282,
   "metadata": {},
   "outputs": [
    {
     "data": {
      "text/plain": [
       "Same as the national average    1109\n",
       "Not Available                    781\n",
       "Above the national average       770\n",
       "Below the national average       655\n",
       "Name: Safety of care national comparison, dtype: int64"
      ]
     },
     "execution_count": 282,
     "metadata": {},
     "output_type": "execute_result"
    }
   ],
   "source": [
    "data[\"Safety of care national comparison\"].value_counts()"
   ]
  },
  {
   "cell_type": "code",
   "execution_count": 283,
   "metadata": {},
   "outputs": [],
   "source": [
    "data = data.drop(data[data[\"Safety of care national comparison\"] == \"Not Available\"].index)"
   ]
  },
  {
   "cell_type": "code",
   "execution_count": 284,
   "metadata": {},
   "outputs": [
    {
     "data": {
      "text/plain": [
       "Same as the national average    43.764799\n",
       "Above the national average      30.386740\n",
       "Below the national average      25.848461\n",
       "Name: Safety of care national comparison, dtype: float64"
      ]
     },
     "execution_count": 284,
     "metadata": {},
     "output_type": "execute_result"
    }
   ],
   "source": [
    "data[\"Safety of care national comparison\"].value_counts(normalize=True)*100"
   ]
  },
  {
   "cell_type": "code",
   "execution_count": 285,
   "metadata": {},
   "outputs": [
    {
     "data": {
      "text/plain": [
       "<AxesSubplot:xlabel='Safety of care national comparison', ylabel='count'>"
      ]
     },
     "execution_count": 285,
     "metadata": {},
     "output_type": "execute_result"
    },
    {
     "data": {
      "image/png": "[encoded data removed]",
      "text/plain": [
       "<Figure size 1080x504 with 1 Axes>"
      ]
     },
     "metadata": {
      "needs_background": "light"
     },
     "output_type": "display_data"
    }
   ],
   "source": [
    "plt.figure(figsize=(15,7))\n",
    "sns.countplot(x=data[\"Safety of care national comparison\"], color=\"orange\")"
   ]
  },
  {
   "cell_type": "code",
   "execution_count": 286,
   "metadata": {},
   "outputs": [
    {
     "data": {
      "text/plain": [
       "Same as the national average    961\n",
       "Below the national average      807\n",
       "Above the national average      766\n",
       "Name: Readmission national comparison, dtype: int64"
      ]
     },
     "execution_count": 286,
     "metadata": {},
     "output_type": "execute_result"
    }
   ],
   "source": [
    "data[\"Readmission national comparison\"].value_counts()"
   ]
  },
  {
   "cell_type": "code",
   "execution_count": 287,
   "metadata": {},
   "outputs": [
    {
     "data": {
      "text/plain": [
       "<AxesSubplot:xlabel='Readmission national comparison', ylabel='count'>"
      ]
     },
     "execution_count": 287,
     "metadata": {},
     "output_type": "execute_result"
    },
    {
     "data": {
      "image/png": "[encoded data removed]",
      "text/plain": [
       "<Figure size 1080x504 with 1 Axes>"
      ]
     },
     "metadata": {
      "needs_background": "light"
     },
     "output_type": "display_data"
    }
   ],
   "source": [
    "plt.figure(figsize=(15,7))\n",
    "sns.countplot(x=data[\"Readmission national comparison\"], color=\"grey\")"
   ]
  },
  {
   "cell_type": "code",
   "execution_count": 288,
   "metadata": {},
   "outputs": [
    {
     "data": {
      "text/plain": [
       "Below the national average      986\n",
       "Same as the national average    837\n",
       "Above the national average      703\n",
       "Not Available                     8\n",
       "Name: Patient experience national comparison, dtype: int64"
      ]
     },
     "execution_count": 288,
     "metadata": {},
     "output_type": "execute_result"
    }
   ],
   "source": [
    "data[\"Patient experience national comparison\"].value_counts()"
   ]
  },
  {
   "cell_type": "code",
   "execution_count": 289,
   "metadata": {},
   "outputs": [],
   "source": [
    "data = data.drop(data[data[\"Patient experience national comparison\"] == \"Not Available\"].index)"
   ]
  },
  {
   "cell_type": "code",
   "execution_count": 290,
   "metadata": {},
   "outputs": [
    {
     "data": {
      "text/plain": [
       "Below the national average      39.034046\n",
       "Same as the national average    33.135392\n",
       "Above the national average      27.830562\n",
       "Name: Patient experience national comparison, dtype: float64"
      ]
     },
     "execution_count": 290,
     "metadata": {},
     "output_type": "execute_result"
    }
   ],
   "source": [
    "data[\"Patient experience national comparison\"].value_counts(normalize=True)*100"
   ]
  },
  {
   "cell_type": "code",
   "execution_count": 291,
   "metadata": {},
   "outputs": [
    {
     "data": {
      "text/plain": [
       "<AxesSubplot:xlabel='Patient experience national comparison', ylabel='count'>"
      ]
     },
     "execution_count": 291,
     "metadata": {},
     "output_type": "execute_result"
    },
    {
     "data": {
      "image/png": "[encoded data removed]",
      "text/plain": [
       "<Figure size 1080x504 with 1 Axes>"
      ]
     },
     "metadata": {
      "needs_background": "light"
     },
     "output_type": "display_data"
    }
   ],
   "source": [
    "plt.figure(figsize=(15,7))\n",
    "sns.countplot(x=data[\"Patient experience national comparison\"], color=\"pink\")"
   ]
  },
  {
   "cell_type": "code",
   "execution_count": 292,
   "metadata": {},
   "outputs": [
    {
     "data": {
      "text/plain": [
       "Same as the national average    2231\n",
       "Below the national average       166\n",
       "Above the national average       124\n",
       "Not Available                      5\n",
       "Name: Effectiveness of care national comparison, dtype: int64"
      ]
     },
     "execution_count": 292,
     "metadata": {},
     "output_type": "execute_result"
    }
   ],
   "source": [
    "data[\"Effectiveness of care national comparison\"].value_counts()"
   ]
  },
  {
   "cell_type": "code",
   "execution_count": 293,
   "metadata": {},
   "outputs": [],
   "source": [
    "data = data.drop(data[data[\"Effectiveness of care national comparison\"] == \"Not Available\"].index)"
   ]
  },
  {
   "cell_type": "code",
   "execution_count": 294,
   "metadata": {},
   "outputs": [
    {
     "data": {
      "text/plain": [
       "Same as the national average    88.496628\n",
       "Below the national average       6.584689\n",
       "Above the national average       4.918683\n",
       "Name: Effectiveness of care national comparison, dtype: float64"
      ]
     },
     "execution_count": 294,
     "metadata": {},
     "output_type": "execute_result"
    }
   ],
   "source": [
    "data[\"Effectiveness of care national comparison\"].value_counts(normalize=True)*100"
   ]
  },
  {
   "cell_type": "code",
   "execution_count": 295,
   "metadata": {},
   "outputs": [
    {
     "data": {
      "text/plain": [
       "<AxesSubplot:xlabel='Effectiveness of care national comparison', ylabel='count'>"
      ]
     },
     "execution_count": 295,
     "metadata": {},
     "output_type": "execute_result"
    },
    {
     "data": {
      "image/png": "[encoded data removed]",
      "text/plain": [
       "<Figure size 1080x504 with 1 Axes>"
      ]
     },
     "metadata": {
      "needs_background": "light"
     },
     "output_type": "display_data"
    }
   ],
   "source": [
    "plt.figure(figsize=(15,7))\n",
    "sns.countplot(x=data[\"Effectiveness of care national comparison\"], palette=\"viridis\")"
   ]
  },
  {
   "cell_type": "code",
   "execution_count": 296,
   "metadata": {},
   "outputs": [
    {
     "data": {
      "text/plain": [
       "Same as the national average    1033\n",
       "Below the national average       872\n",
       "Above the national average       604\n",
       "Not Available                     12\n",
       "Name: Timeliness of care national comparison, dtype: int64"
      ]
     },
     "execution_count": 296,
     "metadata": {},
     "output_type": "execute_result"
    }
   ],
   "source": [
    "data[\"Timeliness of care national comparison\"].value_counts()"
   ]
  },
  {
   "cell_type": "code",
   "execution_count": 297,
   "metadata": {},
   "outputs": [],
   "source": [
    "data = data.drop(data[data[\"Timeliness of care national comparison\"] == \"Not Available\"].index)"
   ]
  },
  {
   "cell_type": "code",
   "execution_count": 298,
   "metadata": {},
   "outputs": [
    {
     "data": {
      "text/plain": [
       "Same as the national average    41.171782\n",
       "Below the national average      34.754882\n",
       "Above the national average      24.073336\n",
       "Name: Timeliness of care national comparison, dtype: float64"
      ]
     },
     "execution_count": 298,
     "metadata": {},
     "output_type": "execute_result"
    }
   ],
   "source": [
    "data[\"Timeliness of care national comparison\"].value_counts(normalize=True)*100"
   ]
  },
  {
   "cell_type": "code",
   "execution_count": 299,
   "metadata": {},
   "outputs": [
    {
     "data": {
      "text/plain": [
       "<AxesSubplot:xlabel='Timeliness of care national comparison', ylabel='count'>"
      ]
     },
     "execution_count": 299,
     "metadata": {},
     "output_type": "execute_result"
    },
    {
     "data": {
      "image/png": "[encoded data removed]",
      "text/plain": [
       "<Figure size 1080x504 with 1 Axes>"
      ]
     },
     "metadata": {
      "needs_background": "light"
     },
     "output_type": "display_data"
    }
   ],
   "source": [
    "plt.figure(figsize=(15,7))\n",
    "sns.countplot(x=data[\"Timeliness of care national comparison\"], palette=\"plasma\")"
   ]
  },
  {
   "cell_type": "code",
   "execution_count": 300,
   "metadata": {},
   "outputs": [
    {
     "data": {
      "text/plain": [
       "Same as the national average    1635\n",
       "Above the national average       356\n",
       "Below the national average       306\n",
       "Not Available                    212\n",
       "Name: Efficient use of medical imaging national comparison, dtype: int64"
      ]
     },
     "execution_count": 300,
     "metadata": {},
     "output_type": "execute_result"
    }
   ],
   "source": [
    "data[\"Efficient use of medical imaging national comparison\"].value_counts()"
   ]
  },
  {
   "cell_type": "code",
   "execution_count": 301,
   "metadata": {},
   "outputs": [],
   "source": [
    "data = data.drop(data[data[\"Efficient use of medical imaging national comparison\"] == \"Not Available\"].index)"
   ]
  },
  {
   "cell_type": "code",
   "execution_count": 302,
   "metadata": {},
   "outputs": [
    {
     "data": {
      "text/plain": [
       "Same as the national average    71.179800\n",
       "Above the national average      15.498476\n",
       "Below the national average      13.321724\n",
       "Name: Efficient use of medical imaging national comparison, dtype: float64"
      ]
     },
     "execution_count": 302,
     "metadata": {},
     "output_type": "execute_result"
    }
   ],
   "source": [
    "data[\"Efficient use of medical imaging national comparison\"].value_counts(normalize=True)*100"
   ]
  },
  {
   "cell_type": "code",
   "execution_count": 303,
   "metadata": {},
   "outputs": [
    {
     "data": {
      "text/plain": [
       "<AxesSubplot:xlabel='Efficient use of medical imaging national comparison', ylabel='count'>"
      ]
     },
     "execution_count": 303,
     "metadata": {},
     "output_type": "execute_result"
    },
    {
     "data": {
      "image/png": "[encoded data removed]",
      "text/plain": [
       "<Figure size 1080x504 with 1 Axes>"
      ]
     },
     "metadata": {
      "needs_background": "light"
     },
     "output_type": "display_data"
    }
   ],
   "source": [
    "plt.figure(figsize=(15,7))\n",
    "sns.countplot(x=data[\"Efficient use of medical imaging national comparison\"], palette=\"cividis\")"
   ]
  },
  {
   "cell_type": "markdown",
   "metadata": {},
   "source": [
    "###### Explorative data analysis on CMS measures are complete. Need to drilldown in the basics before moving on to machine learning. "
   ]
  },
  {
   "cell_type": "code",
   "execution_count": 304,
   "metadata": {},
   "outputs": [
    {
     "data": {
      "text/plain": [
       "CHICAGO         18\n",
       "HOUSTON         13\n",
       "PHILADELPHIA    12\n",
       "WASHINGTON      10\n",
       "COLUMBUS        10\n",
       "                ..\n",
       "LENOIR           1\n",
       "WAUKESHA         1\n",
       "EDGEWOOD         1\n",
       "NAPA             1\n",
       "KERRVILLE        1\n",
       "Name: City, Length: 1474, dtype: int64"
      ]
     },
     "execution_count": 304,
     "metadata": {},
     "output_type": "execute_result"
    }
   ],
   "source": [
    "data[\"City\"].value_counts()"
   ]
  },
  {
   "cell_type": "markdown",
   "metadata": {},
   "source": [
    "###### The City data length has ~1400 and it is not feasible to create dummies to keep this feature. Putting them into fewer categories is not necessary as we have State and ZIP code. "
   ]
  },
  {
   "cell_type": "code",
   "execution_count": 305,
   "metadata": {},
   "outputs": [],
   "source": [
    "data = data.drop(\"City\", axis=1)"
   ]
  },
  {
   "cell_type": "code",
   "execution_count": 306,
   "metadata": {},
   "outputs": [
    {
     "data": {
      "text/plain": [
       "CA    7.575098\n",
       "TX    7.139747\n",
       "FL    6.181976\n",
       "PA    4.832390\n",
       "NY    4.788855\n",
       "IL    4.658250\n",
       "OH    4.614715\n",
       "MI    3.569874\n",
       "NC    3.134523\n",
       "GA    3.090988\n",
       "IN    2.873313\n",
       "VA    2.742708\n",
       "TN    2.655638\n",
       "MO    2.568568\n",
       "NJ    2.525033\n",
       "WI    2.481498\n",
       "KY    2.263822\n",
       "MA    2.176752\n",
       "AL    2.133217\n",
       "WA    1.915542\n",
       "OK    1.828472\n",
       "LA    1.828472\n",
       "SC    1.784937\n",
       "AZ    1.697867\n",
       "CO    1.610797\n",
       "MN    1.567262\n",
       "MS    1.436657\n",
       "KS    1.262516\n",
       "CT    1.175446\n",
       "AR    1.175446\n",
       "OR    1.131911\n",
       "IA    1.088376\n",
       "WV    1.001306\n",
       "NV    0.740096\n",
       "UT    0.696561\n",
       "ME    0.696561\n",
       "NE    0.696561\n",
       "NM    0.609491\n",
       "NH    0.522421\n",
       "MT    0.435350\n",
       "SD    0.435350\n",
       "ID    0.435350\n",
       "RI    0.391815\n",
       "HI    0.348280\n",
       "DC    0.304745\n",
       "ND    0.261210\n",
       "WY    0.261210\n",
       "VT    0.261210\n",
       "DE    0.261210\n",
       "AK    0.130605\n",
       "Name: State, dtype: float64"
      ]
     },
     "execution_count": 306,
     "metadata": {},
     "output_type": "execute_result"
    }
   ],
   "source": [
    "data[\"State\"].value_counts(normalize=True)*100"
   ]
  },
  {
   "cell_type": "markdown",
   "metadata": {},
   "source": [
    "###### Looks like the top 3 states that have highest number of hospitals are CA, TX, and FL. Possibly due to the number of population, but I do not have the data to support this. It could be higher needs from sicker population in general, or just having excessive resources. These are just the preliminary impression. "
   ]
  },
  {
   "cell_type": "code",
   "execution_count": 307,
   "metadata": {},
   "outputs": [
    {
     "data": {
      "text/plain": [
       "Text(0.5, 0, 'Number of Hospitals')"
      ]
     },
     "execution_count": 307,
     "metadata": {},
     "output_type": "execute_result"
    },
    {
     "data": {
      "image/png": "[encoded data removed]",
      "text/plain": [
       "<Figure size 1080x2160 with 1 Axes>"
      ]
     },
     "metadata": {
      "needs_background": "light"
     },
     "output_type": "display_data"
    }
   ],
   "source": [
    "plt.figure(figsize=(15,30))\n",
    "state_order = data[\"State\"].value_counts().sort_values(ascending=False).index\n",
    "sns.countplot(y=data[\"State\"], palette=\"coolwarm\", order=state_order)\n",
    "plt.title(\"Number of Hospitals in Each State\")\n",
    "plt.xlabel(\"Number of Hospitals\")"
   ]
  },
  {
   "cell_type": "markdown",
   "metadata": {},
   "source": [
    "###### Let's focus on the top 10 states that have the highest number of hospitals for their overall ratings. At a glance, TX has the highest number of hospitals with 5-star rating compared to the rest. In contrast, NY has the highest number of hospitals with 1-star rating compared to her counterparts. "
   ]
  },
  {
   "cell_type": "code",
   "execution_count": 308,
   "metadata": {
    "scrolled": false
   },
   "outputs": [
    {
     "data": {
      "text/plain": [
       "<matplotlib.legend.Legend at 0x1e35591caf0>"
      ]
     },
     "execution_count": 308,
     "metadata": {},
     "output_type": "execute_result"
    },
    {
     "data": {
      "image/png": "[encoded data removed]",
      "text/plain": [
       "<Figure size 864x1296 with 1 Axes>"
      ]
     },
     "metadata": {
      "needs_background": "light"
     },
     "output_type": "display_data"
    }
   ],
   "source": [
    "plt.figure(figsize=(12,18))\n",
    "plt.title(\"Top 10 States\")\n",
    "state_order = data[\"State\"].value_counts().sort_values(ascending=False)[:10].index\n",
    "sns.countplot(y=data[\"State\"], palette=\"coolwarm\", order=state_order, data=data, hue=\"Hospital overall rating\")\n",
    "plt.legend(bbox_to_anchor=(1.2, 0.5), title=\"CMS Rating\")"
   ]
  },
  {
   "cell_type": "markdown",
   "metadata": {},
   "source": [
    "###### Just out of curiousity, let's drilldown into the top 3 states."
   ]
  },
  {
   "cell_type": "code",
   "execution_count": 372,
   "metadata": {},
   "outputs": [
    {
     "data": {
      "text/plain": [
       "164"
      ]
     },
     "execution_count": 372,
     "metadata": {},
     "output_type": "execute_result"
    }
   ],
   "source": [
    "len(data[data[\"State\"] == \"TX\"])"
   ]
  },
  {
   "cell_type": "code",
   "execution_count": 368,
   "metadata": {},
   "outputs": [
    {
     "data": {
      "text/plain": [
       "3    78\n",
       "4    46\n",
       "2    30\n",
       "5     8\n",
       "1     2\n",
       "Name: Hospital overall rating, dtype: int64"
      ]
     },
     "execution_count": 368,
     "metadata": {},
     "output_type": "execute_result"
    }
   ],
   "source": [
    "data[data[\"State\"] == \"TX\"][\"Hospital overall rating\"].value_counts()"
   ]
  },
  {
   "cell_type": "code",
   "execution_count": 371,
   "metadata": {},
   "outputs": [
    {
     "data": {
      "text/plain": [
       "110"
      ]
     },
     "execution_count": 371,
     "metadata": {},
     "output_type": "execute_result"
    }
   ],
   "source": [
    "len(data[data[\"State\"] == \"NY\"])"
   ]
  },
  {
   "cell_type": "code",
   "execution_count": 369,
   "metadata": {},
   "outputs": [
    {
     "data": {
      "text/plain": [
       "2    41\n",
       "3    35\n",
       "1    25\n",
       "4     9\n",
       "Name: Hospital overall rating, dtype: int64"
      ]
     },
     "execution_count": 369,
     "metadata": {},
     "output_type": "execute_result"
    }
   ],
   "source": [
    "data[data[\"State\"] == \"NY\"][\"Hospital overall rating\"].value_counts()"
   ]
  },
  {
   "cell_type": "code",
   "execution_count": 373,
   "metadata": {},
   "outputs": [
    {
     "data": {
      "text/plain": [
       "174"
      ]
     },
     "execution_count": 373,
     "metadata": {},
     "output_type": "execute_result"
    }
   ],
   "source": [
    "len(data[data[\"State\"] == \"CA\"])"
   ]
  },
  {
   "cell_type": "code",
   "execution_count": 374,
   "metadata": {},
   "outputs": [
    {
     "data": {
      "text/plain": [
       "3    70\n",
       "2    56\n",
       "4    36\n",
       "1     8\n",
       "5     4\n",
       "Name: Hospital overall rating, dtype: int64"
      ]
     },
     "execution_count": 374,
     "metadata": {},
     "output_type": "execute_result"
    }
   ],
   "source": [
    "data[data[\"State\"] == \"CA\"][\"Hospital overall rating\"].value_counts()"
   ]
  },
  {
   "cell_type": "code",
   "execution_count": 389,
   "metadata": {},
   "outputs": [
    {
     "data": {
      "text/plain": [
       "59"
      ]
     },
     "execution_count": 389,
     "metadata": {},
     "output_type": "execute_result"
    }
   ],
   "source": [
    "len(data[data[\"Hospital overall rating\"] == 5])"
   ]
  },
  {
   "cell_type": "code",
   "execution_count": 390,
   "metadata": {},
   "outputs": [
    {
     "data": {
      "text/plain": [
       "94"
      ]
     },
     "execution_count": 390,
     "metadata": {},
     "output_type": "execute_result"
    }
   ],
   "source": [
    "len(data[data[\"Hospital overall rating\"] == 1])"
   ]
  },
  {
   "cell_type": "markdown",
   "metadata": {},
   "source": [
    "###### There are a total of 59 hospitals with 5-star rating out of total 2297 hospitals in the USA (after data cleansing). "
   ]
  },
  {
   "cell_type": "markdown",
   "metadata": {},
   "source": [
    "###### Fun fact: Given the dataset, the probability of picking a 5-star rating hospital in the USA is 2.57%."
   ]
  },
  {
   "cell_type": "markdown",
   "metadata": {},
   "source": [
    "###### Fun fact: Given the dataset, the probability of picking a 1-star rating hospital in the USA is 4.1%."
   ]
  },
  {
   "cell_type": "code",
   "execution_count": 388,
   "metadata": {},
   "outputs": [
    {
     "data": {
      "text/plain": [
       "2.5685676969960816"
      ]
     },
     "execution_count": 388,
     "metadata": {},
     "output_type": "execute_result"
    }
   ],
   "source": [
    "high_star_prob = len(data[data[\"Hospital overall rating\"] == 5])/len(data)*100\n",
    "high_star_prob"
   ]
  },
  {
   "cell_type": "code",
   "execution_count": 391,
   "metadata": {},
   "outputs": [
    {
     "data": {
      "text/plain": [
       "4.092294296909012"
      ]
     },
     "execution_count": 391,
     "metadata": {},
     "output_type": "execute_result"
    }
   ],
   "source": [
    "low_star_prob = len(data[data[\"Hospital overall rating\"] == 1])/len(data)*100\n",
    "low_star_prob"
   ]
  },
  {
   "cell_type": "markdown",
   "metadata": {},
   "source": [
    "###### Fun fact: Given the dataset, the probability of picking a 5-star rating hospital in the USA that is from Texas  is 0.35%."
   ]
  },
  {
   "cell_type": "code",
   "execution_count": 413,
   "metadata": {},
   "outputs": [
    {
     "name": "stderr",
     "output_type": "stream",
     "text": [
      "<ipython-input-413-f56fb7b6bfdc>:1: UserWarning: Boolean Series key will be reindexed to match DataFrame index.\n",
      "  texas_high_prob = len(data[data[\"State\"] == \"TX\"][data[\"Hospital overall rating\"] == 5])\n"
     ]
    }
   ],
   "source": [
    "texas_high_prob = len(data[data[\"State\"] == \"TX\"][data[\"Hospital overall rating\"] == 5])\n",
    "texas_high_total = len(data[data[\"State\"] == \"TX\"])\n",
    "total_usa = len(data)"
   ]
  },
  {
   "cell_type": "code",
   "execution_count": 414,
   "metadata": {},
   "outputs": [
    {
     "data": {
      "text/plain": [
       "0.34828036569438403"
      ]
     },
     "execution_count": 414,
     "metadata": {},
     "output_type": "execute_result"
    }
   ],
   "source": [
    "texas_prob = (texas_high_prob/texas_high_total)*(texas_high_total/total_usa)*100\n",
    "texas_prob"
   ]
  },
  {
   "cell_type": "markdown",
   "metadata": {},
   "source": [
    "###### Fun fact: Given the dataset, the probability of picking a 1-star rating hospital in the USA that is from New York  is 1.1%."
   ]
  },
  {
   "cell_type": "code",
   "execution_count": 418,
   "metadata": {},
   "outputs": [
    {
     "name": "stderr",
     "output_type": "stream",
     "text": [
      "<ipython-input-418-d6411bcf147b>:1: UserWarning: Boolean Series key will be reindexed to match DataFrame index.\n",
      "  newyork_low_prob = len(data[data[\"State\"] == \"NY\"][data[\"Hospital overall rating\"] == 1])\n"
     ]
    }
   ],
   "source": [
    "newyork_low_prob = len(data[data[\"State\"] == \"NY\"][data[\"Hospital overall rating\"] == 1])\n",
    "newyork_low_total = len(data[data[\"State\"] == \"NY\"])\n",
    "total_usa = len(data)"
   ]
  },
  {
   "cell_type": "code",
   "execution_count": 419,
   "metadata": {},
   "outputs": [
    {
     "data": {
      "text/plain": [
       "1.0883761427949499"
      ]
     },
     "execution_count": 419,
     "metadata": {},
     "output_type": "execute_result"
    }
   ],
   "source": [
    "newyork_prob = (newyork_low_prob/newyork_low_total)*(newyork_low_total/total_usa)*100\n",
    "newyork_prob"
   ]
  },
  {
   "cell_type": "markdown",
   "metadata": {},
   "source": [
    "###### It's time to look into the data type and prepare for machine learning. Noted that all are objects except for ZIP code. "
   ]
  },
  {
   "cell_type": "code",
   "execution_count": 86,
   "metadata": {},
   "outputs": [
    {
     "name": "stdout",
     "output_type": "stream",
     "text": [
      "<class 'pandas.core.frame.DataFrame'>\n",
      "Int64Index: 2297 entries, 0 to 4784\n",
      "Data columns (total 13 columns):\n",
      " #   Column                                                Non-Null Count  Dtype \n",
      "---  ------                                                --------------  ----- \n",
      " 0   State                                                 2297 non-null   object\n",
      " 1   ZIP Code                                              2297 non-null   int64 \n",
      " 2   Hospital Type                                         2297 non-null   object\n",
      " 3   Hospital Ownership                                    2297 non-null   object\n",
      " 4   Emergency Services                                    2297 non-null   object\n",
      " 5   Hospital overall rating                               2297 non-null   object\n",
      " 6   Mortality national comparison                         2297 non-null   object\n",
      " 7   Safety of care national comparison                    2297 non-null   object\n",
      " 8   Readmission national comparison                       2297 non-null   object\n",
      " 9   Patient experience national comparison                2297 non-null   object\n",
      " 10  Effectiveness of care national comparison             2297 non-null   object\n",
      " 11  Timeliness of care national comparison                2297 non-null   object\n",
      " 12  Efficient use of medical imaging national comparison  2297 non-null   object\n",
      "dtypes: int64(1), object(12)\n",
      "memory usage: 331.2+ KB\n"
     ]
    }
   ],
   "source": [
    "data.info()"
   ]
  },
  {
   "cell_type": "markdown",
   "metadata": {},
   "source": [
    "###### Getting dummy data on features"
   ]
  },
  {
   "cell_type": "code",
   "execution_count": 87,
   "metadata": {},
   "outputs": [],
   "source": [
    "clean_state = pd.get_dummies(data[\"State\"], prefix=\"State_\", drop_first=True, dtype=int)\n",
    "data = pd.concat([data.drop(\"State\", axis=1), clean_state], axis=1)"
   ]
  },
  {
   "cell_type": "code",
   "execution_count": 88,
   "metadata": {},
   "outputs": [
    {
     "data": {
      "text/html": [
       "<div>\n",
       "<style scoped>\n",
       "    .dataframe tbody tr th:only-of-type {\n",
       "        vertical-align: middle;\n",
       "    }\n",
       "\n",
       "    .dataframe tbody tr th {\n",
       "        vertical-align: top;\n",
       "    }\n",
       "\n",
       "    .dataframe thead th {\n",
       "        text-align: right;\n",
       "    }\n",
       "</style>\n",
       "<table border=\"1\" class=\"dataframe\">\n",
       "  <thead>\n",
       "    <tr style=\"text-align: right;\">\n",
       "      <th></th>\n",
       "      <th>ZIP Code</th>\n",
       "      <th>Hospital Type</th>\n",
       "      <th>Hospital Ownership</th>\n",
       "      <th>Emergency Services</th>\n",
       "      <th>Hospital overall rating</th>\n",
       "      <th>Mortality national comparison</th>\n",
       "      <th>Safety of care national comparison</th>\n",
       "      <th>Readmission national comparison</th>\n",
       "      <th>Patient experience national comparison</th>\n",
       "      <th>Effectiveness of care national comparison</th>\n",
       "      <th>...</th>\n",
       "      <th>State__SD</th>\n",
       "      <th>State__TN</th>\n",
       "      <th>State__TX</th>\n",
       "      <th>State__UT</th>\n",
       "      <th>State__VA</th>\n",
       "      <th>State__VT</th>\n",
       "      <th>State__WA</th>\n",
       "      <th>State__WI</th>\n",
       "      <th>State__WV</th>\n",
       "      <th>State__WY</th>\n",
       "    </tr>\n",
       "  </thead>\n",
       "  <tbody>\n",
       "    <tr>\n",
       "      <th>0</th>\n",
       "      <td>36301</td>\n",
       "      <td>Acute Care Hospitals</td>\n",
       "      <td>Government - Hospital District or Authority</td>\n",
       "      <td>Yes</td>\n",
       "      <td>3</td>\n",
       "      <td>Same as the national average</td>\n",
       "      <td>Above the national average</td>\n",
       "      <td>Same as the national average</td>\n",
       "      <td>Below the national average</td>\n",
       "      <td>Same as the national average</td>\n",
       "      <td>...</td>\n",
       "      <td>0</td>\n",
       "      <td>0</td>\n",
       "      <td>0</td>\n",
       "      <td>0</td>\n",
       "      <td>0</td>\n",
       "      <td>0</td>\n",
       "      <td>0</td>\n",
       "      <td>0</td>\n",
       "      <td>0</td>\n",
       "      <td>0</td>\n",
       "    </tr>\n",
       "    <tr>\n",
       "      <th>1</th>\n",
       "      <td>35957</td>\n",
       "      <td>Acute Care Hospitals</td>\n",
       "      <td>Government - Hospital District or Authority</td>\n",
       "      <td>Yes</td>\n",
       "      <td>3</td>\n",
       "      <td>Below the national average</td>\n",
       "      <td>Same as the national average</td>\n",
       "      <td>Above the national average</td>\n",
       "      <td>Same as the national average</td>\n",
       "      <td>Same as the national average</td>\n",
       "      <td>...</td>\n",
       "      <td>0</td>\n",
       "      <td>0</td>\n",
       "      <td>0</td>\n",
       "      <td>0</td>\n",
       "      <td>0</td>\n",
       "      <td>0</td>\n",
       "      <td>0</td>\n",
       "      <td>0</td>\n",
       "      <td>0</td>\n",
       "      <td>0</td>\n",
       "    </tr>\n",
       "    <tr>\n",
       "      <th>2</th>\n",
       "      <td>35631</td>\n",
       "      <td>Acute Care Hospitals</td>\n",
       "      <td>Government - Hospital District or Authority</td>\n",
       "      <td>Yes</td>\n",
       "      <td>2</td>\n",
       "      <td>Below the national average</td>\n",
       "      <td>Same as the national average</td>\n",
       "      <td>Same as the national average</td>\n",
       "      <td>Below the national average</td>\n",
       "      <td>Same as the national average</td>\n",
       "      <td>...</td>\n",
       "      <td>0</td>\n",
       "      <td>0</td>\n",
       "      <td>0</td>\n",
       "      <td>0</td>\n",
       "      <td>0</td>\n",
       "      <td>0</td>\n",
       "      <td>0</td>\n",
       "      <td>0</td>\n",
       "      <td>0</td>\n",
       "      <td>0</td>\n",
       "    </tr>\n",
       "  </tbody>\n",
       "</table>\n",
       "<p>3 rows × 61 columns</p>\n",
       "</div>"
      ],
      "text/plain": [
       "   ZIP Code         Hospital Type  \\\n",
       "0     36301  Acute Care Hospitals   \n",
       "1     35957  Acute Care Hospitals   \n",
       "2     35631  Acute Care Hospitals   \n",
       "\n",
       "                            Hospital Ownership Emergency Services  \\\n",
       "0  Government - Hospital District or Authority                Yes   \n",
       "1  Government - Hospital District or Authority                Yes   \n",
       "2  Government - Hospital District or Authority                Yes   \n",
       "\n",
       "  Hospital overall rating Mortality national comparison  \\\n",
       "0                       3  Same as the national average   \n",
       "1                       3    Below the national average   \n",
       "2                       2    Below the national average   \n",
       "\n",
       "  Safety of care national comparison Readmission national comparison  \\\n",
       "0         Above the national average    Same as the national average   \n",
       "1       Same as the national average      Above the national average   \n",
       "2       Same as the national average    Same as the national average   \n",
       "\n",
       "  Patient experience national comparison  \\\n",
       "0             Below the national average   \n",
       "1           Same as the national average   \n",
       "2             Below the national average   \n",
       "\n",
       "  Effectiveness of care national comparison  ... State__SD State__TN  \\\n",
       "0              Same as the national average  ...         0         0   \n",
       "1              Same as the national average  ...         0         0   \n",
       "2              Same as the national average  ...         0         0   \n",
       "\n",
       "   State__TX  State__UT  State__VA  State__VT  State__WA  State__WI  \\\n",
       "0          0          0          0          0          0          0   \n",
       "1          0          0          0          0          0          0   \n",
       "2          0          0          0          0          0          0   \n",
       "\n",
       "   State__WV  State__WY  \n",
       "0          0          0  \n",
       "1          0          0  \n",
       "2          0          0  \n",
       "\n",
       "[3 rows x 61 columns]"
      ]
     },
     "execution_count": 88,
     "metadata": {},
     "output_type": "execute_result"
    }
   ],
   "source": [
    "data.head(3)"
   ]
  },
  {
   "cell_type": "code",
   "execution_count": 89,
   "metadata": {},
   "outputs": [
    {
     "name": "stdout",
     "output_type": "stream",
     "text": [
      "<class 'pandas.core.frame.DataFrame'>\n",
      "Int64Index: 2297 entries, 0 to 4784\n",
      "Data columns (total 61 columns):\n",
      " #   Column                                                Non-Null Count  Dtype \n",
      "---  ------                                                --------------  ----- \n",
      " 0   ZIP Code                                              2297 non-null   int64 \n",
      " 1   Hospital Type                                         2297 non-null   object\n",
      " 2   Hospital Ownership                                    2297 non-null   object\n",
      " 3   Emergency Services                                    2297 non-null   object\n",
      " 4   Hospital overall rating                               2297 non-null   object\n",
      " 5   Mortality national comparison                         2297 non-null   object\n",
      " 6   Safety of care national comparison                    2297 non-null   object\n",
      " 7   Readmission national comparison                       2297 non-null   object\n",
      " 8   Patient experience national comparison                2297 non-null   object\n",
      " 9   Effectiveness of care national comparison             2297 non-null   object\n",
      " 10  Timeliness of care national comparison                2297 non-null   object\n",
      " 11  Efficient use of medical imaging national comparison  2297 non-null   object\n",
      " 12  State__AL                                             2297 non-null   int32 \n",
      " 13  State__AR                                             2297 non-null   int32 \n",
      " 14  State__AZ                                             2297 non-null   int32 \n",
      " 15  State__CA                                             2297 non-null   int32 \n",
      " 16  State__CO                                             2297 non-null   int32 \n",
      " 17  State__CT                                             2297 non-null   int32 \n",
      " 18  State__DC                                             2297 non-null   int32 \n",
      " 19  State__DE                                             2297 non-null   int32 \n",
      " 20  State__FL                                             2297 non-null   int32 \n",
      " 21  State__GA                                             2297 non-null   int32 \n",
      " 22  State__HI                                             2297 non-null   int32 \n",
      " 23  State__IA                                             2297 non-null   int32 \n",
      " 24  State__ID                                             2297 non-null   int32 \n",
      " 25  State__IL                                             2297 non-null   int32 \n",
      " 26  State__IN                                             2297 non-null   int32 \n",
      " 27  State__KS                                             2297 non-null   int32 \n",
      " 28  State__KY                                             2297 non-null   int32 \n",
      " 29  State__LA                                             2297 non-null   int32 \n",
      " 30  State__MA                                             2297 non-null   int32 \n",
      " 31  State__ME                                             2297 non-null   int32 \n",
      " 32  State__MI                                             2297 non-null   int32 \n",
      " 33  State__MN                                             2297 non-null   int32 \n",
      " 34  State__MO                                             2297 non-null   int32 \n",
      " 35  State__MS                                             2297 non-null   int32 \n",
      " 36  State__MT                                             2297 non-null   int32 \n",
      " 37  State__NC                                             2297 non-null   int32 \n",
      " 38  State__ND                                             2297 non-null   int32 \n",
      " 39  State__NE                                             2297 non-null   int32 \n",
      " 40  State__NH                                             2297 non-null   int32 \n",
      " 41  State__NJ                                             2297 non-null   int32 \n",
      " 42  State__NM                                             2297 non-null   int32 \n",
      " 43  State__NV                                             2297 non-null   int32 \n",
      " 44  State__NY                                             2297 non-null   int32 \n",
      " 45  State__OH                                             2297 non-null   int32 \n",
      " 46  State__OK                                             2297 non-null   int32 \n",
      " 47  State__OR                                             2297 non-null   int32 \n",
      " 48  State__PA                                             2297 non-null   int32 \n",
      " 49  State__RI                                             2297 non-null   int32 \n",
      " 50  State__SC                                             2297 non-null   int32 \n",
      " 51  State__SD                                             2297 non-null   int32 \n",
      " 52  State__TN                                             2297 non-null   int32 \n",
      " 53  State__TX                                             2297 non-null   int32 \n",
      " 54  State__UT                                             2297 non-null   int32 \n",
      " 55  State__VA                                             2297 non-null   int32 \n",
      " 56  State__VT                                             2297 non-null   int32 \n",
      " 57  State__WA                                             2297 non-null   int32 \n",
      " 58  State__WI                                             2297 non-null   int32 \n",
      " 59  State__WV                                             2297 non-null   int32 \n",
      " 60  State__WY                                             2297 non-null   int32 \n",
      "dtypes: int32(49), int64(1), object(11)\n",
      "memory usage: 752.9+ KB\n"
     ]
    }
   ],
   "source": [
    "data.info()"
   ]
  },
  {
   "cell_type": "code",
   "execution_count": 90,
   "metadata": {},
   "outputs": [],
   "source": [
    "dummy_column = data.iloc[:, 1:4]"
   ]
  },
  {
   "cell_type": "code",
   "execution_count": 91,
   "metadata": {},
   "outputs": [],
   "source": [
    "clean_column = pd.get_dummies(dummy_column, drop_first=True, dtype=int)\n",
    "data = pd.concat([data.drop(dummy_column, axis=1), clean_column], axis=1)"
   ]
  },
  {
   "cell_type": "code",
   "execution_count": 92,
   "metadata": {},
   "outputs": [
    {
     "name": "stdout",
     "output_type": "stream",
     "text": [
      "<class 'pandas.core.frame.DataFrame'>\n",
      "Int64Index: 2297 entries, 0 to 4784\n",
      "Data columns (total 68 columns):\n",
      " #   Column                                                          Non-Null Count  Dtype \n",
      "---  ------                                                          --------------  ----- \n",
      " 0   ZIP Code                                                        2297 non-null   int64 \n",
      " 1   Hospital overall rating                                         2297 non-null   object\n",
      " 2   Mortality national comparison                                   2297 non-null   object\n",
      " 3   Safety of care national comparison                              2297 non-null   object\n",
      " 4   Readmission national comparison                                 2297 non-null   object\n",
      " 5   Patient experience national comparison                          2297 non-null   object\n",
      " 6   Effectiveness of care national comparison                       2297 non-null   object\n",
      " 7   Timeliness of care national comparison                          2297 non-null   object\n",
      " 8   Efficient use of medical imaging national comparison            2297 non-null   object\n",
      " 9   State__AL                                                       2297 non-null   int32 \n",
      " 10  State__AR                                                       2297 non-null   int32 \n",
      " 11  State__AZ                                                       2297 non-null   int32 \n",
      " 12  State__CA                                                       2297 non-null   int32 \n",
      " 13  State__CO                                                       2297 non-null   int32 \n",
      " 14  State__CT                                                       2297 non-null   int32 \n",
      " 15  State__DC                                                       2297 non-null   int32 \n",
      " 16  State__DE                                                       2297 non-null   int32 \n",
      " 17  State__FL                                                       2297 non-null   int32 \n",
      " 18  State__GA                                                       2297 non-null   int32 \n",
      " 19  State__HI                                                       2297 non-null   int32 \n",
      " 20  State__IA                                                       2297 non-null   int32 \n",
      " 21  State__ID                                                       2297 non-null   int32 \n",
      " 22  State__IL                                                       2297 non-null   int32 \n",
      " 23  State__IN                                                       2297 non-null   int32 \n",
      " 24  State__KS                                                       2297 non-null   int32 \n",
      " 25  State__KY                                                       2297 non-null   int32 \n",
      " 26  State__LA                                                       2297 non-null   int32 \n",
      " 27  State__MA                                                       2297 non-null   int32 \n",
      " 28  State__ME                                                       2297 non-null   int32 \n",
      " 29  State__MI                                                       2297 non-null   int32 \n",
      " 30  State__MN                                                       2297 non-null   int32 \n",
      " 31  State__MO                                                       2297 non-null   int32 \n",
      " 32  State__MS                                                       2297 non-null   int32 \n",
      " 33  State__MT                                                       2297 non-null   int32 \n",
      " 34  State__NC                                                       2297 non-null   int32 \n",
      " 35  State__ND                                                       2297 non-null   int32 \n",
      " 36  State__NE                                                       2297 non-null   int32 \n",
      " 37  State__NH                                                       2297 non-null   int32 \n",
      " 38  State__NJ                                                       2297 non-null   int32 \n",
      " 39  State__NM                                                       2297 non-null   int32 \n",
      " 40  State__NV                                                       2297 non-null   int32 \n",
      " 41  State__NY                                                       2297 non-null   int32 \n",
      " 42  State__OH                                                       2297 non-null   int32 \n",
      " 43  State__OK                                                       2297 non-null   int32 \n",
      " 44  State__OR                                                       2297 non-null   int32 \n",
      " 45  State__PA                                                       2297 non-null   int32 \n",
      " 46  State__RI                                                       2297 non-null   int32 \n",
      " 47  State__SC                                                       2297 non-null   int32 \n",
      " 48  State__SD                                                       2297 non-null   int32 \n",
      " 49  State__TN                                                       2297 non-null   int32 \n",
      " 50  State__TX                                                       2297 non-null   int32 \n",
      " 51  State__UT                                                       2297 non-null   int32 \n",
      " 52  State__VA                                                       2297 non-null   int32 \n",
      " 53  State__VT                                                       2297 non-null   int32 \n",
      " 54  State__WA                                                       2297 non-null   int32 \n",
      " 55  State__WI                                                       2297 non-null   int32 \n",
      " 56  State__WV                                                       2297 non-null   int32 \n",
      " 57  State__WY                                                       2297 non-null   int32 \n",
      " 58  Hospital Type_Critical Access Hospitals                         2297 non-null   int32 \n",
      " 59  Hospital Ownership_Government - Hospital District or Authority  2297 non-null   int32 \n",
      " 60  Hospital Ownership_Government - Local                           2297 non-null   int32 \n",
      " 61  Hospital Ownership_Government - State                           2297 non-null   int32 \n",
      " 62  Hospital Ownership_Physician                                    2297 non-null   int32 \n",
      " 63  Hospital Ownership_Proprietary                                  2297 non-null   int32 \n",
      " 64  Hospital Ownership_Voluntary non-profit - Church                2297 non-null   int32 \n",
      " 65  Hospital Ownership_Voluntary non-profit - Other                 2297 non-null   int32 \n",
      " 66  Hospital Ownership_Voluntary non-profit - Private               2297 non-null   int32 \n",
      " 67  Emergency Services_Yes                                          2297 non-null   int32 \n",
      "dtypes: int32(59), int64(1), object(8)\n",
      "memory usage: 788.8+ KB\n"
     ]
    }
   ],
   "source": [
    "data.info()"
   ]
  },
  {
   "cell_type": "code",
   "execution_count": 93,
   "metadata": {},
   "outputs": [],
   "source": [
    "dummy_columns = data.iloc[:, 2:9]"
   ]
  },
  {
   "cell_type": "code",
   "execution_count": 94,
   "metadata": {},
   "outputs": [],
   "source": [
    "clean_columns = pd.get_dummies(dummy_columns, drop_first=True, dtype=int)\n",
    "data = pd.concat([data.drop(dummy_columns, axis=1), clean_columns], axis=1)"
   ]
  },
  {
   "cell_type": "code",
   "execution_count": 95,
   "metadata": {},
   "outputs": [
    {
     "name": "stdout",
     "output_type": "stream",
     "text": [
      "<class 'pandas.core.frame.DataFrame'>\n",
      "Int64Index: 2297 entries, 0 to 4784\n",
      "Data columns (total 75 columns):\n",
      " #   Column                                                                             Non-Null Count  Dtype \n",
      "---  ------                                                                             --------------  ----- \n",
      " 0   ZIP Code                                                                           2297 non-null   int64 \n",
      " 1   Hospital overall rating                                                            2297 non-null   object\n",
      " 2   State__AL                                                                          2297 non-null   int32 \n",
      " 3   State__AR                                                                          2297 non-null   int32 \n",
      " 4   State__AZ                                                                          2297 non-null   int32 \n",
      " 5   State__CA                                                                          2297 non-null   int32 \n",
      " 6   State__CO                                                                          2297 non-null   int32 \n",
      " 7   State__CT                                                                          2297 non-null   int32 \n",
      " 8   State__DC                                                                          2297 non-null   int32 \n",
      " 9   State__DE                                                                          2297 non-null   int32 \n",
      " 10  State__FL                                                                          2297 non-null   int32 \n",
      " 11  State__GA                                                                          2297 non-null   int32 \n",
      " 12  State__HI                                                                          2297 non-null   int32 \n",
      " 13  State__IA                                                                          2297 non-null   int32 \n",
      " 14  State__ID                                                                          2297 non-null   int32 \n",
      " 15  State__IL                                                                          2297 non-null   int32 \n",
      " 16  State__IN                                                                          2297 non-null   int32 \n",
      " 17  State__KS                                                                          2297 non-null   int32 \n",
      " 18  State__KY                                                                          2297 non-null   int32 \n",
      " 19  State__LA                                                                          2297 non-null   int32 \n",
      " 20  State__MA                                                                          2297 non-null   int32 \n",
      " 21  State__ME                                                                          2297 non-null   int32 \n",
      " 22  State__MI                                                                          2297 non-null   int32 \n",
      " 23  State__MN                                                                          2297 non-null   int32 \n",
      " 24  State__MO                                                                          2297 non-null   int32 \n",
      " 25  State__MS                                                                          2297 non-null   int32 \n",
      " 26  State__MT                                                                          2297 non-null   int32 \n",
      " 27  State__NC                                                                          2297 non-null   int32 \n",
      " 28  State__ND                                                                          2297 non-null   int32 \n",
      " 29  State__NE                                                                          2297 non-null   int32 \n",
      " 30  State__NH                                                                          2297 non-null   int32 \n",
      " 31  State__NJ                                                                          2297 non-null   int32 \n",
      " 32  State__NM                                                                          2297 non-null   int32 \n",
      " 33  State__NV                                                                          2297 non-null   int32 \n",
      " 34  State__NY                                                                          2297 non-null   int32 \n",
      " 35  State__OH                                                                          2297 non-null   int32 \n",
      " 36  State__OK                                                                          2297 non-null   int32 \n",
      " 37  State__OR                                                                          2297 non-null   int32 \n",
      " 38  State__PA                                                                          2297 non-null   int32 \n",
      " 39  State__RI                                                                          2297 non-null   int32 \n",
      " 40  State__SC                                                                          2297 non-null   int32 \n",
      " 41  State__SD                                                                          2297 non-null   int32 \n",
      " 42  State__TN                                                                          2297 non-null   int32 \n",
      " 43  State__TX                                                                          2297 non-null   int32 \n",
      " 44  State__UT                                                                          2297 non-null   int32 \n",
      " 45  State__VA                                                                          2297 non-null   int32 \n",
      " 46  State__VT                                                                          2297 non-null   int32 \n",
      " 47  State__WA                                                                          2297 non-null   int32 \n",
      " 48  State__WI                                                                          2297 non-null   int32 \n",
      " 49  State__WV                                                                          2297 non-null   int32 \n",
      " 50  State__WY                                                                          2297 non-null   int32 \n",
      " 51  Hospital Type_Critical Access Hospitals                                            2297 non-null   int32 \n",
      " 52  Hospital Ownership_Government - Hospital District or Authority                     2297 non-null   int32 \n",
      " 53  Hospital Ownership_Government - Local                                              2297 non-null   int32 \n",
      " 54  Hospital Ownership_Government - State                                              2297 non-null   int32 \n",
      " 55  Hospital Ownership_Physician                                                       2297 non-null   int32 \n",
      " 56  Hospital Ownership_Proprietary                                                     2297 non-null   int32 \n",
      " 57  Hospital Ownership_Voluntary non-profit - Church                                   2297 non-null   int32 \n",
      " 58  Hospital Ownership_Voluntary non-profit - Other                                    2297 non-null   int32 \n",
      " 59  Hospital Ownership_Voluntary non-profit - Private                                  2297 non-null   int32 \n",
      " 60  Emergency Services_Yes                                                             2297 non-null   int32 \n",
      " 61  Mortality national comparison_Below the national average                           2297 non-null   int32 \n",
      " 62  Mortality national comparison_Same as the national average                         2297 non-null   int32 \n",
      " 63  Safety of care national comparison_Below the national average                      2297 non-null   int32 \n",
      " 64  Safety of care national comparison_Same as the national average                    2297 non-null   int32 \n",
      " 65  Readmission national comparison_Below the national average                         2297 non-null   int32 \n",
      " 66  Readmission national comparison_Same as the national average                       2297 non-null   int32 \n",
      " 67  Patient experience national comparison_Below the national average                  2297 non-null   int32 \n",
      " 68  Patient experience national comparison_Same as the national average                2297 non-null   int32 \n",
      " 69  Effectiveness of care national comparison_Below the national average               2297 non-null   int32 \n",
      " 70  Effectiveness of care national comparison_Same as the national average             2297 non-null   int32 \n",
      " 71  Timeliness of care national comparison_Below the national average                  2297 non-null   int32 \n",
      " 72  Timeliness of care national comparison_Same as the national average                2297 non-null   int32 \n",
      " 73  Efficient use of medical imaging national comparison_Below the national average    2297 non-null   int32 \n",
      " 74  Efficient use of medical imaging national comparison_Same as the national average  2297 non-null   int32 \n",
      "dtypes: int32(73), int64(1), object(1)\n",
      "memory usage: 788.8+ KB\n"
     ]
    }
   ],
   "source": [
    "data.info()"
   ]
  },
  {
   "cell_type": "markdown",
   "metadata": {},
   "source": [
    "###### Last, our y-variable will be converted from object to int. Once again, rechecking all columns. "
   ]
  },
  {
   "cell_type": "code",
   "execution_count": 96,
   "metadata": {},
   "outputs": [],
   "source": [
    "data[\"Hospital overall rating\"] = data[\"Hospital overall rating\"].astype(str).astype(int)"
   ]
  },
  {
   "cell_type": "code",
   "execution_count": 97,
   "metadata": {},
   "outputs": [
    {
     "name": "stdout",
     "output_type": "stream",
     "text": [
      "<class 'pandas.core.frame.DataFrame'>\n",
      "Int64Index: 2297 entries, 0 to 4784\n",
      "Data columns (total 75 columns):\n",
      " #   Column                                                                             Non-Null Count  Dtype\n",
      "---  ------                                                                             --------------  -----\n",
      " 0   ZIP Code                                                                           2297 non-null   int64\n",
      " 1   Hospital overall rating                                                            2297 non-null   int32\n",
      " 2   State__AL                                                                          2297 non-null   int32\n",
      " 3   State__AR                                                                          2297 non-null   int32\n",
      " 4   State__AZ                                                                          2297 non-null   int32\n",
      " 5   State__CA                                                                          2297 non-null   int32\n",
      " 6   State__CO                                                                          2297 non-null   int32\n",
      " 7   State__CT                                                                          2297 non-null   int32\n",
      " 8   State__DC                                                                          2297 non-null   int32\n",
      " 9   State__DE                                                                          2297 non-null   int32\n",
      " 10  State__FL                                                                          2297 non-null   int32\n",
      " 11  State__GA                                                                          2297 non-null   int32\n",
      " 12  State__HI                                                                          2297 non-null   int32\n",
      " 13  State__IA                                                                          2297 non-null   int32\n",
      " 14  State__ID                                                                          2297 non-null   int32\n",
      " 15  State__IL                                                                          2297 non-null   int32\n",
      " 16  State__IN                                                                          2297 non-null   int32\n",
      " 17  State__KS                                                                          2297 non-null   int32\n",
      " 18  State__KY                                                                          2297 non-null   int32\n",
      " 19  State__LA                                                                          2297 non-null   int32\n",
      " 20  State__MA                                                                          2297 non-null   int32\n",
      " 21  State__ME                                                                          2297 non-null   int32\n",
      " 22  State__MI                                                                          2297 non-null   int32\n",
      " 23  State__MN                                                                          2297 non-null   int32\n",
      " 24  State__MO                                                                          2297 non-null   int32\n",
      " 25  State__MS                                                                          2297 non-null   int32\n",
      " 26  State__MT                                                                          2297 non-null   int32\n",
      " 27  State__NC                                                                          2297 non-null   int32\n",
      " 28  State__ND                                                                          2297 non-null   int32\n",
      " 29  State__NE                                                                          2297 non-null   int32\n",
      " 30  State__NH                                                                          2297 non-null   int32\n",
      " 31  State__NJ                                                                          2297 non-null   int32\n",
      " 32  State__NM                                                                          2297 non-null   int32\n",
      " 33  State__NV                                                                          2297 non-null   int32\n",
      " 34  State__NY                                                                          2297 non-null   int32\n",
      " 35  State__OH                                                                          2297 non-null   int32\n",
      " 36  State__OK                                                                          2297 non-null   int32\n",
      " 37  State__OR                                                                          2297 non-null   int32\n",
      " 38  State__PA                                                                          2297 non-null   int32\n",
      " 39  State__RI                                                                          2297 non-null   int32\n",
      " 40  State__SC                                                                          2297 non-null   int32\n",
      " 41  State__SD                                                                          2297 non-null   int32\n",
      " 42  State__TN                                                                          2297 non-null   int32\n",
      " 43  State__TX                                                                          2297 non-null   int32\n",
      " 44  State__UT                                                                          2297 non-null   int32\n",
      " 45  State__VA                                                                          2297 non-null   int32\n",
      " 46  State__VT                                                                          2297 non-null   int32\n",
      " 47  State__WA                                                                          2297 non-null   int32\n",
      " 48  State__WI                                                                          2297 non-null   int32\n",
      " 49  State__WV                                                                          2297 non-null   int32\n",
      " 50  State__WY                                                                          2297 non-null   int32\n",
      " 51  Hospital Type_Critical Access Hospitals                                            2297 non-null   int32\n",
      " 52  Hospital Ownership_Government - Hospital District or Authority                     2297 non-null   int32\n",
      " 53  Hospital Ownership_Government - Local                                              2297 non-null   int32\n",
      " 54  Hospital Ownership_Government - State                                              2297 non-null   int32\n",
      " 55  Hospital Ownership_Physician                                                       2297 non-null   int32\n",
      " 56  Hospital Ownership_Proprietary                                                     2297 non-null   int32\n",
      " 57  Hospital Ownership_Voluntary non-profit - Church                                   2297 non-null   int32\n",
      " 58  Hospital Ownership_Voluntary non-profit - Other                                    2297 non-null   int32\n",
      " 59  Hospital Ownership_Voluntary non-profit - Private                                  2297 non-null   int32\n",
      " 60  Emergency Services_Yes                                                             2297 non-null   int32\n",
      " 61  Mortality national comparison_Below the national average                           2297 non-null   int32\n",
      " 62  Mortality national comparison_Same as the national average                         2297 non-null   int32\n",
      " 63  Safety of care national comparison_Below the national average                      2297 non-null   int32\n",
      " 64  Safety of care national comparison_Same as the national average                    2297 non-null   int32\n",
      " 65  Readmission national comparison_Below the national average                         2297 non-null   int32\n",
      " 66  Readmission national comparison_Same as the national average                       2297 non-null   int32\n",
      " 67  Patient experience national comparison_Below the national average                  2297 non-null   int32\n",
      " 68  Patient experience national comparison_Same as the national average                2297 non-null   int32\n",
      " 69  Effectiveness of care national comparison_Below the national average               2297 non-null   int32\n",
      " 70  Effectiveness of care national comparison_Same as the national average             2297 non-null   int32\n",
      " 71  Timeliness of care national comparison_Below the national average                  2297 non-null   int32\n",
      " 72  Timeliness of care national comparison_Same as the national average                2297 non-null   int32\n",
      " 73  Efficient use of medical imaging national comparison_Below the national average    2297 non-null   int32\n",
      " 74  Efficient use of medical imaging national comparison_Same as the national average  2297 non-null   int32\n",
      "dtypes: int32(74), int64(1)\n",
      "memory usage: 779.9 KB\n"
     ]
    }
   ],
   "source": [
    "data.info()"
   ]
  },
  {
   "cell_type": "markdown",
   "metadata": {},
   "source": [
    "###### Preprocessing data for machine learning models. Importing sci-kit learn libraries."
   ]
  },
  {
   "cell_type": "code",
   "execution_count": 101,
   "metadata": {},
   "outputs": [],
   "source": [
    "from sklearn.preprocessing import MinMaxScaler\n",
    "from sklearn.model_selection import train_test_split"
   ]
  },
  {
   "cell_type": "code",
   "execution_count": 102,
   "metadata": {},
   "outputs": [],
   "source": [
    "scaler = MinMaxScaler()"
   ]
  },
  {
   "cell_type": "markdown",
   "metadata": {},
   "source": [
    "###### Creating variables for X and y. Our target is to predict hospital rating, thus, our y variable is \"Hospital overal rating\" column. The rest will be our X variable."
   ]
  },
  {
   "cell_type": "code",
   "execution_count": 104,
   "metadata": {},
   "outputs": [],
   "source": [
    "X = data.drop(\"Hospital overall rating\", axis=1)\n",
    "y = data[\"Hospital overall rating\"]"
   ]
  },
  {
   "cell_type": "markdown",
   "metadata": {},
   "source": [
    "###### Setting up the data for training and testing with 20% of the data as the test size. Random state will be used as one of the parameters so the random generation will produce the same sequence each time running the algorithm. An arbitrary number 42 will be used as the random state (I heard it is THE number for Life, universe, and everything :)"
   ]
  },
  {
   "cell_type": "code",
   "execution_count": 108,
   "metadata": {},
   "outputs": [],
   "source": [
    "X_train, X_test, y_train, y_test = train_test_split(X, y, test_size=0.2, random_state=42)"
   ]
  },
  {
   "cell_type": "code",
   "execution_count": 109,
   "metadata": {},
   "outputs": [],
   "source": [
    "X_train = scaler.fit_transform(X_train)\n",
    "X_test = scaler.transform(X_test)"
   ]
  },
  {
   "cell_type": "markdown",
   "metadata": {},
   "source": [
    "## K-nearest neighbor"
   ]
  },
  {
   "cell_type": "markdown",
   "metadata": {},
   "source": [
    "###### K-nearest neighbor - a random number for the K-value or the n_neighbors of 10 will be used."
   ]
  },
  {
   "cell_type": "code",
   "execution_count": 110,
   "metadata": {},
   "outputs": [],
   "source": [
    "from sklearn.neighbors import KNeighborsClassifier"
   ]
  },
  {
   "cell_type": "code",
   "execution_count": 111,
   "metadata": {},
   "outputs": [],
   "source": [
    "neighbor = KNeighborsClassifier(n_neighbors=10)"
   ]
  },
  {
   "cell_type": "code",
   "execution_count": 112,
   "metadata": {},
   "outputs": [
    {
     "data": {
      "text/plain": [
       "KNeighborsClassifier(n_neighbors=10)"
      ]
     },
     "execution_count": 112,
     "metadata": {},
     "output_type": "execute_result"
    }
   ],
   "source": [
    "neighbor.fit(X_train, y_train)"
   ]
  },
  {
   "cell_type": "code",
   "execution_count": 113,
   "metadata": {},
   "outputs": [],
   "source": [
    "knnpredict = neighbor.predict(X_test)"
   ]
  },
  {
   "cell_type": "markdown",
   "metadata": {},
   "source": [
    "###### Training and prediction complete. Now let's evaluate. "
   ]
  },
  {
   "cell_type": "code",
   "execution_count": 114,
   "metadata": {},
   "outputs": [],
   "source": [
    "from sklearn.metrics import classification_report, confusion_matrix"
   ]
  },
  {
   "cell_type": "code",
   "execution_count": 115,
   "metadata": {},
   "outputs": [
    {
     "name": "stdout",
     "output_type": "stream",
     "text": [
      "              precision    recall  f1-score   support\n",
      "\n",
      "           1       0.47      0.41      0.44        17\n",
      "           2       0.62      0.57      0.59       105\n",
      "           3       0.62      0.71      0.66       212\n",
      "           4       0.56      0.52      0.54       113\n",
      "           5       0.50      0.08      0.13        13\n",
      "\n",
      "    accuracy                           0.60       460\n",
      "   macro avg       0.55      0.46      0.47       460\n",
      "weighted avg       0.60      0.60      0.59       460\n",
      "\n",
      "[[  7   9   1   0   0]\n",
      " [  6  60  37   2   0]\n",
      " [  2  25 150  35   0]\n",
      " [  0   3  50  59   1]\n",
      " [  0   0   3   9   1]]\n"
     ]
    }
   ],
   "source": [
    "print(classification_report(y_test, knnpredict))\n",
    "print(confusion_matrix(y_test, knnpredict))"
   ]
  },
  {
   "cell_type": "markdown",
   "metadata": {},
   "source": [
    "###### The accurate is 60% with n_neighbors set as 10, which was a random number. Noted that precision and recall values are almost at 50% with recall value for rating 5 is only at 8%, and F1-score of 13%. However, the test size for rating 5 is only 13, which must be considered.\n",
    "\n",
    "The elbow method will be used to evaluate what  number is the best K-value in range 1 to 40, which is also arbitrary. "
   ]
  },
  {
   "cell_type": "code",
   "execution_count": 116,
   "metadata": {},
   "outputs": [],
   "source": [
    "error_rate = []\n",
    "\n",
    "for i in range(1,40):\n",
    "    neighbor = KNeighborsClassifier(n_neighbors = i)\n",
    "    neighbor.fit(X_train, y_train)\n",
    "    knnpredict = neighbor.predict(X_test)\n",
    "    error_rate.append(np.mean(knnpredict != y_test))"
   ]
  },
  {
   "cell_type": "markdown",
   "metadata": {},
   "source": [
    "###### The graph below shows the error rate trend in the elbow method. Noted that K-value 15 to 35 gives as a steady trend, hovering at ~0.38 error rate. It is logical to pick the K-value that gives us the lowest error rate. In this case, I will pick 8 since it is the starting point of downtrend."
   ]
  },
  {
   "cell_type": "code",
   "execution_count": 117,
   "metadata": {},
   "outputs": [
    {
     "data": {
      "text/plain": [
       "Text(0, 0.5, 'Error Rate')"
      ]
     },
     "execution_count": 117,
     "metadata": {},
     "output_type": "execute_result"
    },
    {
     "data": {
      "image/png": "[encoded data removed]",
      "text/plain": [
       "<Figure size 1080x504 with 1 Axes>"
      ]
     },
     "metadata": {
      "needs_background": "light"
     },
     "output_type": "display_data"
    }
   ],
   "source": [
    "plt.figure(figsize=(15,7))\n",
    "plt.plot(range(1,40), error_rate, color=\"blue\", ls=\"dashed\", marker=\"o\", markerfacecolor=\"red\", markersize=10)\n",
    "plt.title(\"Error Rate\")\n",
    "plt.xlabel(\"K-value\")\n",
    "plt.ylabel(\"Error Rate\")"
   ]
  },
  {
   "cell_type": "code",
   "execution_count": 128,
   "metadata": {},
   "outputs": [],
   "source": [
    "neighbor = KNeighborsClassifier(n_neighbors=8)\n",
    "neighbor.fit(X_train, y_train)\n",
    "knnpredict = neighbor.predict(X_test)"
   ]
  },
  {
   "cell_type": "code",
   "execution_count": 129,
   "metadata": {},
   "outputs": [
    {
     "name": "stdout",
     "output_type": "stream",
     "text": [
      "              precision    recall  f1-score   support\n",
      "\n",
      "           1       0.53      0.47      0.50        17\n",
      "           2       0.64      0.64      0.64       105\n",
      "           3       0.64      0.70      0.67       212\n",
      "           4       0.60      0.54      0.57       113\n",
      "           5       0.50      0.15      0.24        13\n",
      "\n",
      "    accuracy                           0.62       460\n",
      "   macro avg       0.58      0.50      0.52       460\n",
      "weighted avg       0.62      0.62      0.62       460\n",
      "\n",
      "[[  8   5   4   0   0]\n",
      " [  5  67  32   1   0]\n",
      " [  2  30 149  31   0]\n",
      " [  0   3  47  61   2]\n",
      " [  0   0   2   9   2]]\n"
     ]
    }
   ],
   "source": [
    "print(classification_report(y_test, knnpredict))\n",
    "print(confusion_matrix(y_test, knnpredict))"
   ]
  },
  {
   "cell_type": "markdown",
   "metadata": {},
   "source": [
    "###### The KNN model using elbow method resulted in a slight increase in accuracy, from 60% to 62%. There is an improvement in recall of 15% in rating 5 and F1-score of 24%, which is much better than before IMO. Moving on to Support Vector Machines, which I think it is a close counterpart to KNN. "
   ]
  },
  {
   "cell_type": "markdown",
   "metadata": {},
   "source": [
    "## Support Vector Machines"
   ]
  },
  {
   "cell_type": "code",
   "execution_count": 130,
   "metadata": {},
   "outputs": [],
   "source": [
    "from sklearn.svm import SVC"
   ]
  },
  {
   "cell_type": "code",
   "execution_count": 143,
   "metadata": {},
   "outputs": [],
   "source": [
    "support = SVC(random_state=42)"
   ]
  },
  {
   "cell_type": "code",
   "execution_count": 144,
   "metadata": {},
   "outputs": [
    {
     "data": {
      "text/plain": [
       "SVC(random_state=42)"
      ]
     },
     "execution_count": 144,
     "metadata": {},
     "output_type": "execute_result"
    }
   ],
   "source": [
    "support.fit(X_train, y_train)"
   ]
  },
  {
   "cell_type": "code",
   "execution_count": 145,
   "metadata": {},
   "outputs": [],
   "source": [
    "support_predict = support.predict(X_test)"
   ]
  },
  {
   "cell_type": "code",
   "execution_count": 146,
   "metadata": {},
   "outputs": [
    {
     "name": "stdout",
     "output_type": "stream",
     "text": [
      "              precision    recall  f1-score   support\n",
      "\n",
      "           1       1.00      0.06      0.11        17\n",
      "           2       0.68      0.67      0.67       105\n",
      "           3       0.71      0.80      0.75       212\n",
      "           4       0.67      0.71      0.69       113\n",
      "           5       0.00      0.00      0.00        13\n",
      "\n",
      "    accuracy                           0.70       460\n",
      "   macro avg       0.61      0.45      0.45       460\n",
      "weighted avg       0.69      0.70      0.67       460\n",
      "\n",
      "[[  1  16   0   0   0]\n",
      " [  0  70  35   0   0]\n",
      " [  0  17 169  26   0]\n",
      " [  0   0  33  80   0]\n",
      " [  0   0   0  13   0]]\n"
     ]
    },
    {
     "name": "stderr",
     "output_type": "stream",
     "text": [
      "C:\\Users\\Adrian\\anaconda3\\lib\\site-packages\\sklearn\\metrics\\_classification.py:1221: UndefinedMetricWarning: Precision and F-score are ill-defined and being set to 0.0 in labels with no predicted samples. Use `zero_division` parameter to control this behavior.\n",
      "  _warn_prf(average, modifier, msg_start, len(result))\n"
     ]
    }
   ],
   "source": [
    "print(classification_report(y_test, support_predict))\n",
    "print(confusion_matrix(y_test, support_predict))"
   ]
  },
  {
   "cell_type": "markdown",
   "metadata": {},
   "source": [
    "###### The SVM model yields 70% accuracy. Noted that it has 100% precision on rating 1 but it failed to recognize anything on rating 5. "
   ]
  },
  {
   "cell_type": "markdown",
   "metadata": {},
   "source": [
    "## Random Forest"
   ]
  },
  {
   "cell_type": "code",
   "execution_count": 164,
   "metadata": {},
   "outputs": [],
   "source": [
    "from sklearn.ensemble import RandomForestClassifier"
   ]
  },
  {
   "cell_type": "code",
   "execution_count": 210,
   "metadata": {},
   "outputs": [
    {
     "data": {
      "text/plain": [
       "RandomForestClassifier(n_estimators=260, random_state=42)"
      ]
     },
     "execution_count": 210,
     "metadata": {},
     "output_type": "execute_result"
    }
   ],
   "source": [
    "random_forest = RandomForestClassifier(n_estimators=260, bootstrap=True, random_state=42)\n",
    "random_forest.fit(X_train, y_train)"
   ]
  },
  {
   "cell_type": "code",
   "execution_count": 211,
   "metadata": {},
   "outputs": [],
   "source": [
    "random_forest_predict = random_forest.predict(X_test)"
   ]
  },
  {
   "cell_type": "code",
   "execution_count": 212,
   "metadata": {},
   "outputs": [
    {
     "name": "stdout",
     "output_type": "stream",
     "text": [
      "              precision    recall  f1-score   support\n",
      "\n",
      "           1       0.40      0.24      0.30        17\n",
      "           2       0.67      0.58      0.62       105\n",
      "           3       0.67      0.80      0.73       212\n",
      "           4       0.64      0.58      0.61       113\n",
      "           5       0.25      0.08      0.12        13\n",
      "\n",
      "    accuracy                           0.66       460\n",
      "   macro avg       0.53      0.46      0.48       460\n",
      "weighted avg       0.64      0.66      0.64       460\n",
      "\n",
      "[[  4  13   0   0   0]\n",
      " [  5  61  39   0   0]\n",
      " [  1  16 170  25   0]\n",
      " [  0   1  43  66   3]\n",
      " [  0   0   0  12   1]]\n"
     ]
    }
   ],
   "source": [
    "print(classification_report(y_test, random_forest_predict))\n",
    "print(confusion_matrix(y_test, random_forest_predict))"
   ]
  },
  {
   "cell_type": "markdown",
   "metadata": {},
   "source": [
    "###### The Random Forest model yields a 66% accuracy with at least some correct predictions on rating 5 compared to SVM. "
   ]
  },
  {
   "cell_type": "code",
   "execution_count": 236,
   "metadata": {},
   "outputs": [
    {
     "data": {
      "text/html": [
       "<div>\n",
       "<style scoped>\n",
       "    .dataframe tbody tr th:only-of-type {\n",
       "        vertical-align: middle;\n",
       "    }\n",
       "\n",
       "    .dataframe tbody tr th {\n",
       "        vertical-align: top;\n",
       "    }\n",
       "\n",
       "    .dataframe thead th {\n",
       "        text-align: right;\n",
       "    }\n",
       "</style>\n",
       "<table border=\"1\" class=\"dataframe\">\n",
       "  <thead>\n",
       "    <tr style=\"text-align: right;\">\n",
       "      <th></th>\n",
       "      <th>Model</th>\n",
       "      <th>Accuracy Score</th>\n",
       "      <th>Precision</th>\n",
       "      <th>Recall</th>\n",
       "      <th>F1-score</th>\n",
       "    </tr>\n",
       "  </thead>\n",
       "  <tbody>\n",
       "    <tr>\n",
       "      <th>0</th>\n",
       "      <td>Support Vector Machines</td>\n",
       "      <td>0.70</td>\n",
       "      <td>0.69</td>\n",
       "      <td>0.70</td>\n",
       "      <td>0.67</td>\n",
       "    </tr>\n",
       "    <tr>\n",
       "      <th>1</th>\n",
       "      <td>Random Forest</td>\n",
       "      <td>0.66</td>\n",
       "      <td>0.64</td>\n",
       "      <td>0.66</td>\n",
       "      <td>0.64</td>\n",
       "    </tr>\n",
       "    <tr>\n",
       "      <th>2</th>\n",
       "      <td>K-nearest neighbor</td>\n",
       "      <td>0.62</td>\n",
       "      <td>0.62</td>\n",
       "      <td>0.62</td>\n",
       "      <td>0.62</td>\n",
       "    </tr>\n",
       "  </tbody>\n",
       "</table>\n",
       "</div>"
      ],
      "text/plain": [
       "                     Model  Accuracy Score  Precision  Recall  F1-score\n",
       "0  Support Vector Machines            0.70       0.69    0.70      0.67\n",
       "1            Random Forest            0.66       0.64    0.66      0.64\n",
       "2       K-nearest neighbor            0.62       0.62    0.62      0.62"
      ]
     },
     "execution_count": 236,
     "metadata": {},
     "output_type": "execute_result"
    }
   ],
   "source": [
    "report = [[\"Support Vector Machines\", 0.70, 0.69, 0.70, 0.67], [\"Random Forest\", 0.66, 0.64, 0.66, 0.64], \n",
    "          [\"K-nearest neighbor\", 0.62, 0.62, 0.62, 0.62]]\n",
    "overall_result = pd.DataFrame(report, columns=[\"Model\", \"Accuracy Score\", \"Precision\", \"Recall\", \"F1-score\"])\n",
    "overall_result.sort_values(\"F1-score\", ascending=False)"
   ]
  },
  {
   "cell_type": "markdown",
   "metadata": {},
   "source": [
    "###### Of the 3 machine learning models, SVM yields the highest accuracy and F1-score, followed by Random Forest, and K-nearest neighbor. The SVM model also scored 1.0 for rating 1. However, SVM failed to recognize any rating of 5. I believe the model can be better if we have more balanced data (recalling the majority of the y-variable was rating of 3 and extreme low count on rating 1 and 5). "
   ]
  }
 ],
 "metadata": {
  "kernelspec": {
   "display_name": "Python 3",
   "language": "python",
   "name": "python3"
  },
  "language_info": {
   "codemirror_mode": {
    "name": "ipython",
    "version": 3
   },
   "file_extension": ".py",
   "mimetype": "text/x-python",
   "name": "python",
   "nbconvert_exporter": "python",
   "pygments_lexer": "ipython3",
   "version": "3.8.5"
  }
 },
 "nbformat": 4,
 "nbformat_minor": 4
}
